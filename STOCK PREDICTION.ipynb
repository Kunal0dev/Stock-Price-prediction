{
  "nbformat": 4,
  "nbformat_minor": 0,
  "metadata": {
    "colab": {
      "name": "stock.ipynb",
      "provenance": [],
      "collapsed_sections": []
    },
    "kernelspec": {
      "name": "python3",
      "display_name": "Python 3"
    },
    "language_info": {
      "name": "python"
    }
  },
  "cells": [
    {
      "cell_type": "markdown",
      "source": [
        " ***Stock*** ***Price*** ***Prediction*** ***using*** ***Stack*** ***LSTM***\n",
        "\n",
        "\n"
      ],
      "metadata": {
        "id": "unEtTmxS2ZkA"
      }
    },
    {
      "cell_type": "code",
      "execution_count": 1,
      "metadata": {
        "id": "lfAkWL9uDV3-"
      },
      "outputs": [],
      "source": [
        "import pandas_datareader as pdr\n"
      ]
    },
    {
      "cell_type": "code",
      "source": [
        "df= pdr.get_data_tiingo('GOOG',api_key='79afc1024238cbe51eaccb301975b1e814b83cc1')"
      ],
      "metadata": {
        "colab": {
          "base_uri": "https://localhost:8080/"
        },
        "id": "NtrJaVsND-I3",
        "outputId": "662f2620-4d02-45fe-c539-f10040d572eb"
      },
      "execution_count": 2,
      "outputs": [
        {
          "output_type": "stream",
          "name": "stderr",
          "text": [
            "/usr/local/lib/python3.7/dist-packages/pandas_datareader/tiingo.py:234: FutureWarning: In a future version of pandas all arguments of concat except for the argument 'objs' will be keyword-only\n",
            "  return pd.concat(dfs, self._concat_axis)\n"
          ]
        }
      ]
    },
    {
      "cell_type": "code",
      "source": [
        "df.to_csv('GOOG.csv')"
      ],
      "metadata": {
        "id": "r9GgIbmTGnhf"
      },
      "execution_count": 3,
      "outputs": []
    },
    {
      "cell_type": "code",
      "source": [
        "df.head()\n"
      ],
      "metadata": {
        "colab": {
          "base_uri": "https://localhost:8080/",
          "height": 238
        },
        "id": "CCP21sePHW1o",
        "outputId": "5595c037-bf1a-430c-8eda-eed3e96d35b4"
      },
      "execution_count": 4,
      "outputs": [
        {
          "output_type": "execute_result",
          "data": {
            "text/plain": [
              "                                   close    high      low    open   volume  \\\n",
              "symbol date                                                                  \n",
              "GOOG   2017-04-21 00:00:00+00:00  843.19  843.88  840.600  842.88  1323583   \n",
              "       2017-04-24 00:00:00+00:00  862.76  863.45  849.860  851.20  1371581   \n",
              "       2017-04-25 00:00:00+00:00  872.30  875.00  862.810  865.00  1654161   \n",
              "       2017-04-26 00:00:00+00:00  871.73  876.05  867.748  874.23  1188464   \n",
              "       2017-04-27 00:00:00+00:00  874.25  875.40  870.380  873.60  1734197   \n",
              "\n",
              "                                  adjClose  adjHigh   adjLow  adjOpen  \\\n",
              "symbol date                                                             \n",
              "GOOG   2017-04-21 00:00:00+00:00    843.19   843.88  840.600   842.88   \n",
              "       2017-04-24 00:00:00+00:00    862.76   863.45  849.860   851.20   \n",
              "       2017-04-25 00:00:00+00:00    872.30   875.00  862.810   865.00   \n",
              "       2017-04-26 00:00:00+00:00    871.73   876.05  867.748   874.23   \n",
              "       2017-04-27 00:00:00+00:00    874.25   875.40  870.380   873.60   \n",
              "\n",
              "                                  adjVolume  divCash  splitFactor  \n",
              "symbol date                                                        \n",
              "GOOG   2017-04-21 00:00:00+00:00    1323583      0.0          1.0  \n",
              "       2017-04-24 00:00:00+00:00    1371581      0.0          1.0  \n",
              "       2017-04-25 00:00:00+00:00    1654161      0.0          1.0  \n",
              "       2017-04-26 00:00:00+00:00    1188464      0.0          1.0  \n",
              "       2017-04-27 00:00:00+00:00    1734197      0.0          1.0  "
            ],
            "text/html": [
              "\n",
              "  <div id=\"df-89321faf-9e82-4a82-a02b-327f9243d1a6\">\n",
              "    <div class=\"colab-df-container\">\n",
              "      <div>\n",
              "<style scoped>\n",
              "    .dataframe tbody tr th:only-of-type {\n",
              "        vertical-align: middle;\n",
              "    }\n",
              "\n",
              "    .dataframe tbody tr th {\n",
              "        vertical-align: top;\n",
              "    }\n",
              "\n",
              "    .dataframe thead th {\n",
              "        text-align: right;\n",
              "    }\n",
              "</style>\n",
              "<table border=\"1\" class=\"dataframe\">\n",
              "  <thead>\n",
              "    <tr style=\"text-align: right;\">\n",
              "      <th></th>\n",
              "      <th></th>\n",
              "      <th>close</th>\n",
              "      <th>high</th>\n",
              "      <th>low</th>\n",
              "      <th>open</th>\n",
              "      <th>volume</th>\n",
              "      <th>adjClose</th>\n",
              "      <th>adjHigh</th>\n",
              "      <th>adjLow</th>\n",
              "      <th>adjOpen</th>\n",
              "      <th>adjVolume</th>\n",
              "      <th>divCash</th>\n",
              "      <th>splitFactor</th>\n",
              "    </tr>\n",
              "    <tr>\n",
              "      <th>symbol</th>\n",
              "      <th>date</th>\n",
              "      <th></th>\n",
              "      <th></th>\n",
              "      <th></th>\n",
              "      <th></th>\n",
              "      <th></th>\n",
              "      <th></th>\n",
              "      <th></th>\n",
              "      <th></th>\n",
              "      <th></th>\n",
              "      <th></th>\n",
              "      <th></th>\n",
              "      <th></th>\n",
              "    </tr>\n",
              "  </thead>\n",
              "  <tbody>\n",
              "    <tr>\n",
              "      <th rowspan=\"5\" valign=\"top\">GOOG</th>\n",
              "      <th>2017-04-21 00:00:00+00:00</th>\n",
              "      <td>843.19</td>\n",
              "      <td>843.88</td>\n",
              "      <td>840.600</td>\n",
              "      <td>842.88</td>\n",
              "      <td>1323583</td>\n",
              "      <td>843.19</td>\n",
              "      <td>843.88</td>\n",
              "      <td>840.600</td>\n",
              "      <td>842.88</td>\n",
              "      <td>1323583</td>\n",
              "      <td>0.0</td>\n",
              "      <td>1.0</td>\n",
              "    </tr>\n",
              "    <tr>\n",
              "      <th>2017-04-24 00:00:00+00:00</th>\n",
              "      <td>862.76</td>\n",
              "      <td>863.45</td>\n",
              "      <td>849.860</td>\n",
              "      <td>851.20</td>\n",
              "      <td>1371581</td>\n",
              "      <td>862.76</td>\n",
              "      <td>863.45</td>\n",
              "      <td>849.860</td>\n",
              "      <td>851.20</td>\n",
              "      <td>1371581</td>\n",
              "      <td>0.0</td>\n",
              "      <td>1.0</td>\n",
              "    </tr>\n",
              "    <tr>\n",
              "      <th>2017-04-25 00:00:00+00:00</th>\n",
              "      <td>872.30</td>\n",
              "      <td>875.00</td>\n",
              "      <td>862.810</td>\n",
              "      <td>865.00</td>\n",
              "      <td>1654161</td>\n",
              "      <td>872.30</td>\n",
              "      <td>875.00</td>\n",
              "      <td>862.810</td>\n",
              "      <td>865.00</td>\n",
              "      <td>1654161</td>\n",
              "      <td>0.0</td>\n",
              "      <td>1.0</td>\n",
              "    </tr>\n",
              "    <tr>\n",
              "      <th>2017-04-26 00:00:00+00:00</th>\n",
              "      <td>871.73</td>\n",
              "      <td>876.05</td>\n",
              "      <td>867.748</td>\n",
              "      <td>874.23</td>\n",
              "      <td>1188464</td>\n",
              "      <td>871.73</td>\n",
              "      <td>876.05</td>\n",
              "      <td>867.748</td>\n",
              "      <td>874.23</td>\n",
              "      <td>1188464</td>\n",
              "      <td>0.0</td>\n",
              "      <td>1.0</td>\n",
              "    </tr>\n",
              "    <tr>\n",
              "      <th>2017-04-27 00:00:00+00:00</th>\n",
              "      <td>874.25</td>\n",
              "      <td>875.40</td>\n",
              "      <td>870.380</td>\n",
              "      <td>873.60</td>\n",
              "      <td>1734197</td>\n",
              "      <td>874.25</td>\n",
              "      <td>875.40</td>\n",
              "      <td>870.380</td>\n",
              "      <td>873.60</td>\n",
              "      <td>1734197</td>\n",
              "      <td>0.0</td>\n",
              "      <td>1.0</td>\n",
              "    </tr>\n",
              "  </tbody>\n",
              "</table>\n",
              "</div>\n",
              "      <button class=\"colab-df-convert\" onclick=\"convertToInteractive('df-89321faf-9e82-4a82-a02b-327f9243d1a6')\"\n",
              "              title=\"Convert this dataframe to an interactive table.\"\n",
              "              style=\"display:none;\">\n",
              "        \n",
              "  <svg xmlns=\"http://www.w3.org/2000/svg\" height=\"24px\"viewBox=\"0 0 24 24\"\n",
              "       width=\"24px\">\n",
              "    <path d=\"M0 0h24v24H0V0z\" fill=\"none\"/>\n",
              "    <path d=\"M18.56 5.44l.94 2.06.94-2.06 2.06-.94-2.06-.94-.94-2.06-.94 2.06-2.06.94zm-11 1L8.5 8.5l.94-2.06 2.06-.94-2.06-.94L8.5 2.5l-.94 2.06-2.06.94zm10 10l.94 2.06.94-2.06 2.06-.94-2.06-.94-.94-2.06-.94 2.06-2.06.94z\"/><path d=\"M17.41 7.96l-1.37-1.37c-.4-.4-.92-.59-1.43-.59-.52 0-1.04.2-1.43.59L10.3 9.45l-7.72 7.72c-.78.78-.78 2.05 0 2.83L4 21.41c.39.39.9.59 1.41.59.51 0 1.02-.2 1.41-.59l7.78-7.78 2.81-2.81c.8-.78.8-2.07 0-2.86zM5.41 20L4 18.59l7.72-7.72 1.47 1.35L5.41 20z\"/>\n",
              "  </svg>\n",
              "      </button>\n",
              "      \n",
              "  <style>\n",
              "    .colab-df-container {\n",
              "      display:flex;\n",
              "      flex-wrap:wrap;\n",
              "      gap: 12px;\n",
              "    }\n",
              "\n",
              "    .colab-df-convert {\n",
              "      background-color: #E8F0FE;\n",
              "      border: none;\n",
              "      border-radius: 50%;\n",
              "      cursor: pointer;\n",
              "      display: none;\n",
              "      fill: #1967D2;\n",
              "      height: 32px;\n",
              "      padding: 0 0 0 0;\n",
              "      width: 32px;\n",
              "    }\n",
              "\n",
              "    .colab-df-convert:hover {\n",
              "      background-color: #E2EBFA;\n",
              "      box-shadow: 0px 1px 2px rgba(60, 64, 67, 0.3), 0px 1px 3px 1px rgba(60, 64, 67, 0.15);\n",
              "      fill: #174EA6;\n",
              "    }\n",
              "\n",
              "    [theme=dark] .colab-df-convert {\n",
              "      background-color: #3B4455;\n",
              "      fill: #D2E3FC;\n",
              "    }\n",
              "\n",
              "    [theme=dark] .colab-df-convert:hover {\n",
              "      background-color: #434B5C;\n",
              "      box-shadow: 0px 1px 3px 1px rgba(0, 0, 0, 0.15);\n",
              "      filter: drop-shadow(0px 1px 2px rgba(0, 0, 0, 0.3));\n",
              "      fill: #FFFFFF;\n",
              "    }\n",
              "  </style>\n",
              "\n",
              "      <script>\n",
              "        const buttonEl =\n",
              "          document.querySelector('#df-89321faf-9e82-4a82-a02b-327f9243d1a6 button.colab-df-convert');\n",
              "        buttonEl.style.display =\n",
              "          google.colab.kernel.accessAllowed ? 'block' : 'none';\n",
              "\n",
              "        async function convertToInteractive(key) {\n",
              "          const element = document.querySelector('#df-89321faf-9e82-4a82-a02b-327f9243d1a6');\n",
              "          const dataTable =\n",
              "            await google.colab.kernel.invokeFunction('convertToInteractive',\n",
              "                                                     [key], {});\n",
              "          if (!dataTable) return;\n",
              "\n",
              "          const docLinkHtml = 'Like what you see? Visit the ' +\n",
              "            '<a target=\"_blank\" href=https://colab.research.google.com/notebooks/data_table.ipynb>data table notebook</a>'\n",
              "            + ' to learn more about interactive tables.';\n",
              "          element.innerHTML = '';\n",
              "          dataTable['output_type'] = 'display_data';\n",
              "          await google.colab.output.renderOutput(dataTable, element);\n",
              "          const docLink = document.createElement('div');\n",
              "          docLink.innerHTML = docLinkHtml;\n",
              "          element.appendChild(docLink);\n",
              "        }\n",
              "      </script>\n",
              "    </div>\n",
              "  </div>\n",
              "  "
            ]
          },
          "metadata": {},
          "execution_count": 4
        }
      ]
    },
    {
      "cell_type": "code",
      "source": [
        "df.tail()"
      ],
      "metadata": {
        "colab": {
          "base_uri": "https://localhost:8080/",
          "height": 238
        },
        "id": "BtAscQ_NHgya",
        "outputId": "9ea3f2b6-d7db-4701-e07b-49b7139a051b"
      },
      "execution_count": 5,
      "outputs": [
        {
          "output_type": "execute_result",
          "data": {
            "text/plain": [
              "                                    close      high        low     open  \\\n",
              "symbol date                                                               \n",
              "GOOG   2022-04-12 00:00:00+00:00  2567.49  2648.470  2551.5200  2648.47   \n",
              "       2022-04-13 00:00:00+00:00  2605.72  2613.115  2568.7719  2572.53   \n",
              "       2022-04-14 00:00:00+00:00  2545.06  2614.205  2542.2300  2612.99   \n",
              "       2022-04-18 00:00:00+00:00  2559.22  2574.240  2531.5693  2548.20   \n",
              "       2022-04-19 00:00:00+00:00  2610.62  2618.075  2549.0300  2561.54   \n",
              "\n",
              "                                   volume  adjClose   adjHigh     adjLow  \\\n",
              "symbol date                                                                \n",
              "GOOG   2022-04-12 00:00:00+00:00  1150161   2567.49  2648.470  2551.5200   \n",
              "       2022-04-13 00:00:00+00:00   977148   2605.72  2613.115  2568.7719   \n",
              "       2022-04-14 00:00:00+00:00  1174168   2545.06  2614.205  2542.2300   \n",
              "       2022-04-18 00:00:00+00:00   745860   2559.22  2574.240  2531.5693   \n",
              "       2022-04-19 00:00:00+00:00  1135965   2610.62  2618.075  2549.0300   \n",
              "\n",
              "                                  adjOpen  adjVolume  divCash  splitFactor  \n",
              "symbol date                                                                 \n",
              "GOOG   2022-04-12 00:00:00+00:00  2648.47    1150161      0.0          1.0  \n",
              "       2022-04-13 00:00:00+00:00  2572.53     977148      0.0          1.0  \n",
              "       2022-04-14 00:00:00+00:00  2612.99    1174168      0.0          1.0  \n",
              "       2022-04-18 00:00:00+00:00  2548.20     745860      0.0          1.0  \n",
              "       2022-04-19 00:00:00+00:00  2561.54    1135965      0.0          1.0  "
            ],
            "text/html": [
              "\n",
              "  <div id=\"df-8149d6b4-a569-431b-ae0e-39198e0e3356\">\n",
              "    <div class=\"colab-df-container\">\n",
              "      <div>\n",
              "<style scoped>\n",
              "    .dataframe tbody tr th:only-of-type {\n",
              "        vertical-align: middle;\n",
              "    }\n",
              "\n",
              "    .dataframe tbody tr th {\n",
              "        vertical-align: top;\n",
              "    }\n",
              "\n",
              "    .dataframe thead th {\n",
              "        text-align: right;\n",
              "    }\n",
              "</style>\n",
              "<table border=\"1\" class=\"dataframe\">\n",
              "  <thead>\n",
              "    <tr style=\"text-align: right;\">\n",
              "      <th></th>\n",
              "      <th></th>\n",
              "      <th>close</th>\n",
              "      <th>high</th>\n",
              "      <th>low</th>\n",
              "      <th>open</th>\n",
              "      <th>volume</th>\n",
              "      <th>adjClose</th>\n",
              "      <th>adjHigh</th>\n",
              "      <th>adjLow</th>\n",
              "      <th>adjOpen</th>\n",
              "      <th>adjVolume</th>\n",
              "      <th>divCash</th>\n",
              "      <th>splitFactor</th>\n",
              "    </tr>\n",
              "    <tr>\n",
              "      <th>symbol</th>\n",
              "      <th>date</th>\n",
              "      <th></th>\n",
              "      <th></th>\n",
              "      <th></th>\n",
              "      <th></th>\n",
              "      <th></th>\n",
              "      <th></th>\n",
              "      <th></th>\n",
              "      <th></th>\n",
              "      <th></th>\n",
              "      <th></th>\n",
              "      <th></th>\n",
              "      <th></th>\n",
              "    </tr>\n",
              "  </thead>\n",
              "  <tbody>\n",
              "    <tr>\n",
              "      <th rowspan=\"5\" valign=\"top\">GOOG</th>\n",
              "      <th>2022-04-12 00:00:00+00:00</th>\n",
              "      <td>2567.49</td>\n",
              "      <td>2648.470</td>\n",
              "      <td>2551.5200</td>\n",
              "      <td>2648.47</td>\n",
              "      <td>1150161</td>\n",
              "      <td>2567.49</td>\n",
              "      <td>2648.470</td>\n",
              "      <td>2551.5200</td>\n",
              "      <td>2648.47</td>\n",
              "      <td>1150161</td>\n",
              "      <td>0.0</td>\n",
              "      <td>1.0</td>\n",
              "    </tr>\n",
              "    <tr>\n",
              "      <th>2022-04-13 00:00:00+00:00</th>\n",
              "      <td>2605.72</td>\n",
              "      <td>2613.115</td>\n",
              "      <td>2568.7719</td>\n",
              "      <td>2572.53</td>\n",
              "      <td>977148</td>\n",
              "      <td>2605.72</td>\n",
              "      <td>2613.115</td>\n",
              "      <td>2568.7719</td>\n",
              "      <td>2572.53</td>\n",
              "      <td>977148</td>\n",
              "      <td>0.0</td>\n",
              "      <td>1.0</td>\n",
              "    </tr>\n",
              "    <tr>\n",
              "      <th>2022-04-14 00:00:00+00:00</th>\n",
              "      <td>2545.06</td>\n",
              "      <td>2614.205</td>\n",
              "      <td>2542.2300</td>\n",
              "      <td>2612.99</td>\n",
              "      <td>1174168</td>\n",
              "      <td>2545.06</td>\n",
              "      <td>2614.205</td>\n",
              "      <td>2542.2300</td>\n",
              "      <td>2612.99</td>\n",
              "      <td>1174168</td>\n",
              "      <td>0.0</td>\n",
              "      <td>1.0</td>\n",
              "    </tr>\n",
              "    <tr>\n",
              "      <th>2022-04-18 00:00:00+00:00</th>\n",
              "      <td>2559.22</td>\n",
              "      <td>2574.240</td>\n",
              "      <td>2531.5693</td>\n",
              "      <td>2548.20</td>\n",
              "      <td>745860</td>\n",
              "      <td>2559.22</td>\n",
              "      <td>2574.240</td>\n",
              "      <td>2531.5693</td>\n",
              "      <td>2548.20</td>\n",
              "      <td>745860</td>\n",
              "      <td>0.0</td>\n",
              "      <td>1.0</td>\n",
              "    </tr>\n",
              "    <tr>\n",
              "      <th>2022-04-19 00:00:00+00:00</th>\n",
              "      <td>2610.62</td>\n",
              "      <td>2618.075</td>\n",
              "      <td>2549.0300</td>\n",
              "      <td>2561.54</td>\n",
              "      <td>1135965</td>\n",
              "      <td>2610.62</td>\n",
              "      <td>2618.075</td>\n",
              "      <td>2549.0300</td>\n",
              "      <td>2561.54</td>\n",
              "      <td>1135965</td>\n",
              "      <td>0.0</td>\n",
              "      <td>1.0</td>\n",
              "    </tr>\n",
              "  </tbody>\n",
              "</table>\n",
              "</div>\n",
              "      <button class=\"colab-df-convert\" onclick=\"convertToInteractive('df-8149d6b4-a569-431b-ae0e-39198e0e3356')\"\n",
              "              title=\"Convert this dataframe to an interactive table.\"\n",
              "              style=\"display:none;\">\n",
              "        \n",
              "  <svg xmlns=\"http://www.w3.org/2000/svg\" height=\"24px\"viewBox=\"0 0 24 24\"\n",
              "       width=\"24px\">\n",
              "    <path d=\"M0 0h24v24H0V0z\" fill=\"none\"/>\n",
              "    <path d=\"M18.56 5.44l.94 2.06.94-2.06 2.06-.94-2.06-.94-.94-2.06-.94 2.06-2.06.94zm-11 1L8.5 8.5l.94-2.06 2.06-.94-2.06-.94L8.5 2.5l-.94 2.06-2.06.94zm10 10l.94 2.06.94-2.06 2.06-.94-2.06-.94-.94-2.06-.94 2.06-2.06.94z\"/><path d=\"M17.41 7.96l-1.37-1.37c-.4-.4-.92-.59-1.43-.59-.52 0-1.04.2-1.43.59L10.3 9.45l-7.72 7.72c-.78.78-.78 2.05 0 2.83L4 21.41c.39.39.9.59 1.41.59.51 0 1.02-.2 1.41-.59l7.78-7.78 2.81-2.81c.8-.78.8-2.07 0-2.86zM5.41 20L4 18.59l7.72-7.72 1.47 1.35L5.41 20z\"/>\n",
              "  </svg>\n",
              "      </button>\n",
              "      \n",
              "  <style>\n",
              "    .colab-df-container {\n",
              "      display:flex;\n",
              "      flex-wrap:wrap;\n",
              "      gap: 12px;\n",
              "    }\n",
              "\n",
              "    .colab-df-convert {\n",
              "      background-color: #E8F0FE;\n",
              "      border: none;\n",
              "      border-radius: 50%;\n",
              "      cursor: pointer;\n",
              "      display: none;\n",
              "      fill: #1967D2;\n",
              "      height: 32px;\n",
              "      padding: 0 0 0 0;\n",
              "      width: 32px;\n",
              "    }\n",
              "\n",
              "    .colab-df-convert:hover {\n",
              "      background-color: #E2EBFA;\n",
              "      box-shadow: 0px 1px 2px rgba(60, 64, 67, 0.3), 0px 1px 3px 1px rgba(60, 64, 67, 0.15);\n",
              "      fill: #174EA6;\n",
              "    }\n",
              "\n",
              "    [theme=dark] .colab-df-convert {\n",
              "      background-color: #3B4455;\n",
              "      fill: #D2E3FC;\n",
              "    }\n",
              "\n",
              "    [theme=dark] .colab-df-convert:hover {\n",
              "      background-color: #434B5C;\n",
              "      box-shadow: 0px 1px 3px 1px rgba(0, 0, 0, 0.15);\n",
              "      filter: drop-shadow(0px 1px 2px rgba(0, 0, 0, 0.3));\n",
              "      fill: #FFFFFF;\n",
              "    }\n",
              "  </style>\n",
              "\n",
              "      <script>\n",
              "        const buttonEl =\n",
              "          document.querySelector('#df-8149d6b4-a569-431b-ae0e-39198e0e3356 button.colab-df-convert');\n",
              "        buttonEl.style.display =\n",
              "          google.colab.kernel.accessAllowed ? 'block' : 'none';\n",
              "\n",
              "        async function convertToInteractive(key) {\n",
              "          const element = document.querySelector('#df-8149d6b4-a569-431b-ae0e-39198e0e3356');\n",
              "          const dataTable =\n",
              "            await google.colab.kernel.invokeFunction('convertToInteractive',\n",
              "                                                     [key], {});\n",
              "          if (!dataTable) return;\n",
              "\n",
              "          const docLinkHtml = 'Like what you see? Visit the ' +\n",
              "            '<a target=\"_blank\" href=https://colab.research.google.com/notebooks/data_table.ipynb>data table notebook</a>'\n",
              "            + ' to learn more about interactive tables.';\n",
              "          element.innerHTML = '';\n",
              "          dataTable['output_type'] = 'display_data';\n",
              "          await google.colab.output.renderOutput(dataTable, element);\n",
              "          const docLink = document.createElement('div');\n",
              "          docLink.innerHTML = docLinkHtml;\n",
              "          element.appendChild(docLink);\n",
              "        }\n",
              "      </script>\n",
              "    </div>\n",
              "  </div>\n",
              "  "
            ]
          },
          "metadata": {},
          "execution_count": 5
        }
      ]
    },
    {
      "cell_type": "code",
      "source": [
        "df2=df.reset_index()['close']"
      ],
      "metadata": {
        "id": "qd2LzZCXHl2y"
      },
      "execution_count": 6,
      "outputs": []
    },
    {
      "cell_type": "code",
      "source": [
        "df2.shape"
      ],
      "metadata": {
        "colab": {
          "base_uri": "https://localhost:8080/"
        },
        "id": "1FPL2vvcHwHp",
        "outputId": "c1d1faf9-29a9-4d35-f1aa-0b28ff6918ce"
      },
      "execution_count": 7,
      "outputs": [
        {
          "output_type": "execute_result",
          "data": {
            "text/plain": [
              "(1258,)"
            ]
          },
          "metadata": {},
          "execution_count": 7
        }
      ]
    },
    {
      "cell_type": "code",
      "source": [
        "df2"
      ],
      "metadata": {
        "colab": {
          "base_uri": "https://localhost:8080/"
        },
        "id": "fL26cBgzH_zr",
        "outputId": "cb799d81-34f7-4017-c0fe-7d22770832a9"
      },
      "execution_count": 8,
      "outputs": [
        {
          "output_type": "execute_result",
          "data": {
            "text/plain": [
              "0        843.19\n",
              "1        862.76\n",
              "2        872.30\n",
              "3        871.73\n",
              "4        874.25\n",
              "         ...   \n",
              "1253    2567.49\n",
              "1254    2605.72\n",
              "1255    2545.06\n",
              "1256    2559.22\n",
              "1257    2610.62\n",
              "Name: close, Length: 1258, dtype: float64"
            ]
          },
          "metadata": {},
          "execution_count": 8
        }
      ]
    },
    {
      "cell_type": "code",
      "source": [
        "import matplotlib.pyplot as plt\n",
        "plt.plot(df2)"
      ],
      "metadata": {
        "colab": {
          "base_uri": "https://localhost:8080/",
          "height": 282
        },
        "id": "48li1VRrIRS8",
        "outputId": "253be81e-f3ba-40a6-b64c-aa22f99a9efc"
      },
      "execution_count": 9,
      "outputs": [
        {
          "output_type": "execute_result",
          "data": {
            "text/plain": [
              "[<matplotlib.lines.Line2D at 0x7f5f3a449e50>]"
            ]
          },
          "metadata": {},
          "execution_count": 9
        },
        {
          "output_type": "display_data",
          "data": {
            "text/plain": [
              "<Figure size 432x288 with 1 Axes>"
            ],
            "image/png": "[encoded data removed]"
          },
          "metadata": {
            "needs_background": "light"
          }
        }
      ]
    },
    {
      "cell_type": "code",
      "source": [
        "import numpy as np\n"
      ],
      "metadata": {
        "id": "L02C5mSlIa4U"
      },
      "execution_count": 10,
      "outputs": []
    },
    {
      "cell_type": "code",
      "source": [
        "from sklearn.preprocessing import MinMaxScaler\n",
        "scaler=MinMaxScaler(feature_range=(0,1))\n",
        "df2=scaler.fit_transform(np.array(df2).reshape(-1,1))"
      ],
      "metadata": {
        "id": "JU1o8ZrYJkPK"
      },
      "execution_count": 11,
      "outputs": []
    },
    {
      "cell_type": "code",
      "source": [
        "df2"
      ],
      "metadata": {
        "colab": {
          "base_uri": "https://localhost:8080/"
        },
        "id": "HDkeQBtSKYcM",
        "outputId": "a8c4e661-ae4d-4531-eef0-0278d6892df4"
      },
      "execution_count": 12,
      "outputs": [
        {
          "output_type": "execute_result",
          "data": {
            "text/plain": [
              "array([[0.        ],\n",
              "       [0.00901432],\n",
              "       [0.01340863],\n",
              "       ...,\n",
              "       [0.78391425],\n",
              "       [0.79043662],\n",
              "       [0.81411246]])"
            ]
          },
          "metadata": {},
          "execution_count": 12
        }
      ]
    },
    {
      "cell_type": "code",
      "source": [
        "training_size= int(len(df2)*0.65)\n",
        "test_size=len(df2)-training_size\n",
        "train_data,test_data=df2[0:training_size,:],df2[training_size:len(df2),:1]"
      ],
      "metadata": {
        "id": "u2CTU60lKcx9"
      },
      "execution_count": 13,
      "outputs": []
    },
    {
      "cell_type": "code",
      "source": [
        "import numpy\n",
        "def create_dataset(dataset,time_step=1):\n",
        "  dataX, dataY=[],[]\n",
        "  for i in range(len(dataset)-time_step-1):\n",
        "    a= dataset[i:(i+time_step),0]\n",
        "    dataX.append(a)\n",
        "    dataY.append(dataset[i+time_step,0])\n",
        "  return numpy.array(dataX),numpy.array(dataY)"
      ],
      "metadata": {
        "id": "b3TbsYlGMKZH"
      },
      "execution_count": 14,
      "outputs": []
    },
    {
      "cell_type": "code",
      "source": [
        "time_step=100\n",
        "X_train, y_train = create_dataset(train_data,time_step)\n",
        "X_test, y_test= create_dataset(test_data, time_step)\n"
      ],
      "metadata": {
        "id": "rvXmzNGaPp61"
      },
      "execution_count": 15,
      "outputs": []
    },
    {
      "cell_type": "code",
      "source": [
        "print(X_train.shape) ,print(y_train.shape)"
      ],
      "metadata": {
        "colab": {
          "base_uri": "https://localhost:8080/"
        },
        "id": "7a0QWClmA7E5",
        "outputId": "18693e94-1607-48a4-e123-b4957bfda27b"
      },
      "execution_count": 16,
      "outputs": [
        {
          "output_type": "stream",
          "name": "stdout",
          "text": [
            "(716, 100)\n",
            "(716,)\n"
          ]
        },
        {
          "output_type": "execute_result",
          "data": {
            "text/plain": [
              "(None, None)"
            ]
          },
          "metadata": {},
          "execution_count": 16
        }
      ]
    },
    {
      "cell_type": "code",
      "source": [
        "print(X_test.shape) , print(y_test.shape)"
      ],
      "metadata": {
        "colab": {
          "base_uri": "https://localhost:8080/"
        },
        "id": "-WJ5yIhqBNjO",
        "outputId": "b341bc57-851b-4442-a84a-59bed6f395ff"
      },
      "execution_count": 17,
      "outputs": [
        {
          "output_type": "stream",
          "name": "stdout",
          "text": [
            "(340, 100)\n",
            "(340,)\n"
          ]
        },
        {
          "output_type": "execute_result",
          "data": {
            "text/plain": [
              "(None, None)"
            ]
          },
          "metadata": {},
          "execution_count": 17
        }
      ]
    },
    {
      "cell_type": "code",
      "source": [
        "#reshape the input to be [sample , time step, features] for LSTM\n",
        "X_train= X_train.reshape(X_train.shape[0],X_train.shape[1],1)\n",
        "X_test= X_test.reshape(X_test.shape[0],X_test.shape[1],1)\n"
      ],
      "metadata": {
        "id": "BpWQrpW7B3D3"
      },
      "execution_count": 18,
      "outputs": []
    },
    {
      "cell_type": "code",
      "source": [
        "#create a LSTM\n",
        "from tensorflow.keras.models import Sequential\n",
        "from tensorflow.keras.layers import Dense\n",
        "from tensorflow.keras.layers import LSTM"
      ],
      "metadata": {
        "id": "UzbsvCRcCN2W"
      },
      "execution_count": 19,
      "outputs": []
    },
    {
      "cell_type": "code",
      "source": [
        "model=Sequential()\n",
        "model.add(LSTM(50,return_sequences=True,input_shape=(100,1)))\n",
        "model.add(LSTM(50,return_sequences=True))\n",
        "model.add(LSTM(50))\n",
        "model.add(Dense(1))\n",
        "model.compile(loss='mean_squared_error', optimizer='adam')"
      ],
      "metadata": {
        "id": "FxLVQrRrDKtz"
      },
      "execution_count": 20,
      "outputs": []
    },
    {
      "cell_type": "code",
      "source": [
        "model.summary()"
      ],
      "metadata": {
        "colab": {
          "base_uri": "https://localhost:8080/"
        },
        "id": "U9tVm42OD4-3",
        "outputId": "5aa5c8d7-f91f-4b5a-cb9a-33eddef4a025"
      },
      "execution_count": 21,
      "outputs": [
        {
          "output_type": "stream",
          "name": "stdout",
          "text": [
            "Model: \"sequential\"\n",
            "_________________________________________________________________\n",
            " Layer (type)                Output Shape              Param #   \n",
            "=================================================================\n",
            " lstm (LSTM)                 (None, 100, 50)           10400     \n",
            "                                                                 \n",
            " lstm_1 (LSTM)               (None, 100, 50)           20200     \n",
            "                                                                 \n",
            " lstm_2 (LSTM)               (None, 50)                20200     \n",
            "                                                                 \n",
            " dense (Dense)               (None, 1)                 51        \n",
            "                                                                 \n",
            "=================================================================\n",
            "Total params: 50,851\n",
            "Trainable params: 50,851\n",
            "Non-trainable params: 0\n",
            "_________________________________________________________________\n"
          ]
        }
      ]
    },
    {
      "cell_type": "code",
      "source": [
        "model.fit(X_train,y_train,validation_data=(X_test,y_test),epochs=100,batch_size=64, verbose=1)"
      ],
      "metadata": {
        "colab": {
          "base_uri": "https://localhost:8080/"
        },
        "id": "yt6oF8VyEEJ8",
        "outputId": "d6fb1983-6d0f-4dd6-8162-e7cb18c0466f"
      },
      "execution_count": 22,
      "outputs": [
        {
          "output_type": "stream",
          "name": "stdout",
          "text": [
            "Epoch 1/100\n",
            "12/12 [==============================] - 15s 314ms/step - loss: 0.0100 - val_loss: 0.1649\n",
            "Epoch 2/100\n",
            "12/12 [==============================] - 2s 197ms/step - loss: 0.0023 - val_loss: 0.1238\n",
            "Epoch 3/100\n",
            "12/12 [==============================] - 2s 194ms/step - loss: 0.0016 - val_loss: 0.0899\n",
            "Epoch 4/100\n",
            "12/12 [==============================] - 2s 195ms/step - loss: 9.3007e-04 - val_loss: 0.0089\n",
            "Epoch 5/100\n",
            "12/12 [==============================] - 2s 194ms/step - loss: 6.6766e-04 - val_loss: 0.0031\n",
            "Epoch 6/100\n",
            "12/12 [==============================] - 2s 196ms/step - loss: 7.2052e-04 - val_loss: 0.0058\n",
            "Epoch 7/100\n",
            "12/12 [==============================] - 2s 201ms/step - loss: 6.6117e-04 - val_loss: 0.0047\n",
            "Epoch 8/100\n",
            "12/12 [==============================] - 2s 199ms/step - loss: 6.4779e-04 - val_loss: 0.0028\n",
            "Epoch 9/100\n",
            "12/12 [==============================] - 2s 198ms/step - loss: 5.9647e-04 - val_loss: 0.0041\n",
            "Epoch 10/100\n",
            "12/12 [==============================] - 2s 199ms/step - loss: 5.3344e-04 - val_loss: 0.0020\n",
            "Epoch 11/100\n",
            "12/12 [==============================] - 2s 200ms/step - loss: 4.9269e-04 - val_loss: 0.0018\n",
            "Epoch 12/100\n",
            "12/12 [==============================] - 2s 201ms/step - loss: 4.7599e-04 - val_loss: 0.0018\n",
            "Epoch 13/100\n",
            "12/12 [==============================] - 2s 198ms/step - loss: 4.6096e-04 - val_loss: 0.0017\n",
            "Epoch 14/100\n",
            "12/12 [==============================] - 2s 198ms/step - loss: 4.4489e-04 - val_loss: 0.0029\n",
            "Epoch 15/100\n",
            "12/12 [==============================] - 2s 195ms/step - loss: 4.1711e-04 - val_loss: 0.0062\n",
            "Epoch 16/100\n",
            "12/12 [==============================] - 2s 197ms/step - loss: 4.1583e-04 - val_loss: 0.0051\n",
            "Epoch 17/100\n",
            "12/12 [==============================] - 2s 196ms/step - loss: 3.9304e-04 - val_loss: 0.0053\n",
            "Epoch 18/100\n",
            "12/12 [==============================] - 2s 197ms/step - loss: 4.0697e-04 - val_loss: 0.0146\n",
            "Epoch 19/100\n",
            "12/12 [==============================] - 2s 195ms/step - loss: 4.5357e-04 - val_loss: 0.0054\n",
            "Epoch 20/100\n",
            "12/12 [==============================] - 2s 201ms/step - loss: 3.9517e-04 - val_loss: 0.0077\n",
            "Epoch 21/100\n",
            "12/12 [==============================] - 2s 206ms/step - loss: 3.7658e-04 - val_loss: 0.0108\n",
            "Epoch 22/100\n",
            "12/12 [==============================] - 2s 194ms/step - loss: 3.7015e-04 - val_loss: 0.0199\n",
            "Epoch 23/100\n",
            "12/12 [==============================] - 2s 198ms/step - loss: 3.9404e-04 - val_loss: 0.0147\n",
            "Epoch 24/100\n",
            "12/12 [==============================] - 2s 194ms/step - loss: 3.5461e-04 - val_loss: 0.0087\n",
            "Epoch 25/100\n",
            "12/12 [==============================] - 2s 198ms/step - loss: 3.4631e-04 - val_loss: 0.0255\n",
            "Epoch 26/100\n",
            "12/12 [==============================] - 2s 195ms/step - loss: 3.6252e-04 - val_loss: 0.0123\n",
            "Epoch 27/100\n",
            "12/12 [==============================] - 2s 193ms/step - loss: 3.5281e-04 - val_loss: 0.0166\n",
            "Epoch 28/100\n",
            "12/12 [==============================] - 2s 194ms/step - loss: 3.5395e-04 - val_loss: 0.0190\n",
            "Epoch 29/100\n",
            "12/12 [==============================] - 2s 199ms/step - loss: 3.3452e-04 - val_loss: 0.0176\n",
            "Epoch 30/100\n",
            "12/12 [==============================] - 2s 197ms/step - loss: 3.3224e-04 - val_loss: 0.0134\n",
            "Epoch 31/100\n",
            "12/12 [==============================] - 2s 194ms/step - loss: 3.3505e-04 - val_loss: 0.0127\n",
            "Epoch 32/100\n",
            "12/12 [==============================] - 2s 195ms/step - loss: 3.2556e-04 - val_loss: 0.0298\n",
            "Epoch 33/100\n",
            "12/12 [==============================] - 2s 196ms/step - loss: 3.3040e-04 - val_loss: 0.0166\n",
            "Epoch 34/100\n",
            "12/12 [==============================] - 2s 200ms/step - loss: 3.1511e-04 - val_loss: 0.0161\n",
            "Epoch 35/100\n",
            "12/12 [==============================] - 2s 198ms/step - loss: 3.0935e-04 - val_loss: 0.0120\n",
            "Epoch 36/100\n",
            "12/12 [==============================] - 2s 196ms/step - loss: 3.7164e-04 - val_loss: 0.0247\n",
            "Epoch 37/100\n",
            "12/12 [==============================] - 2s 195ms/step - loss: 3.8581e-04 - val_loss: 0.0298\n",
            "Epoch 38/100\n",
            "12/12 [==============================] - 2s 199ms/step - loss: 3.2519e-04 - val_loss: 0.0093\n",
            "Epoch 39/100\n",
            "12/12 [==============================] - 2s 203ms/step - loss: 3.3099e-04 - val_loss: 0.0360\n",
            "Epoch 40/100\n",
            "12/12 [==============================] - 2s 197ms/step - loss: 3.3308e-04 - val_loss: 0.0089\n",
            "Epoch 41/100\n",
            "12/12 [==============================] - 3s 240ms/step - loss: 3.7038e-04 - val_loss: 0.0243\n",
            "Epoch 42/100\n",
            "12/12 [==============================] - 2s 202ms/step - loss: 3.7009e-04 - val_loss: 0.0292\n",
            "Epoch 43/100\n",
            "12/12 [==============================] - 2s 201ms/step - loss: 3.4265e-04 - val_loss: 0.0108\n",
            "Epoch 44/100\n",
            "12/12 [==============================] - 2s 199ms/step - loss: 3.6274e-04 - val_loss: 0.0114\n",
            "Epoch 45/100\n",
            "12/12 [==============================] - 2s 199ms/step - loss: 3.3072e-04 - val_loss: 0.0214\n",
            "Epoch 46/100\n",
            "12/12 [==============================] - 2s 202ms/step - loss: 3.0399e-04 - val_loss: 0.0206\n",
            "Epoch 47/100\n",
            "12/12 [==============================] - 2s 195ms/step - loss: 2.9401e-04 - val_loss: 0.0177\n",
            "Epoch 48/100\n",
            "12/12 [==============================] - 2s 199ms/step - loss: 2.8257e-04 - val_loss: 0.0117\n",
            "Epoch 49/100\n",
            "12/12 [==============================] - 2s 198ms/step - loss: 2.7267e-04 - val_loss: 0.0101\n",
            "Epoch 50/100\n",
            "12/12 [==============================] - 2s 198ms/step - loss: 2.8013e-04 - val_loss: 0.0214\n",
            "Epoch 51/100\n",
            "12/12 [==============================] - 2s 195ms/step - loss: 2.8820e-04 - val_loss: 0.0100\n",
            "Epoch 52/100\n",
            "12/12 [==============================] - 2s 203ms/step - loss: 2.5803e-04 - val_loss: 0.0087\n",
            "Epoch 53/100\n",
            "12/12 [==============================] - 2s 204ms/step - loss: 2.6849e-04 - val_loss: 0.0097\n",
            "Epoch 54/100\n",
            "12/12 [==============================] - 2s 199ms/step - loss: 2.5752e-04 - val_loss: 0.0042\n",
            "Epoch 55/100\n",
            "12/12 [==============================] - 3s 280ms/step - loss: 2.8089e-04 - val_loss: 0.0084\n",
            "Epoch 56/100\n",
            "12/12 [==============================] - 2s 202ms/step - loss: 2.5811e-04 - val_loss: 0.0069\n",
            "Epoch 57/100\n",
            "12/12 [==============================] - 2s 201ms/step - loss: 2.5291e-04 - val_loss: 0.0066\n",
            "Epoch 58/100\n",
            "12/12 [==============================] - 2s 199ms/step - loss: 2.4656e-04 - val_loss: 0.0056\n",
            "Epoch 59/100\n",
            "12/12 [==============================] - 2s 198ms/step - loss: 2.5654e-04 - val_loss: 0.0065\n",
            "Epoch 60/100\n",
            "12/12 [==============================] - 2s 201ms/step - loss: 2.5027e-04 - val_loss: 0.0060\n",
            "Epoch 61/100\n",
            "12/12 [==============================] - 2s 198ms/step - loss: 2.4557e-04 - val_loss: 0.0054\n",
            "Epoch 62/100\n",
            "12/12 [==============================] - 2s 195ms/step - loss: 2.4081e-04 - val_loss: 0.0089\n",
            "Epoch 63/100\n",
            "12/12 [==============================] - 2s 198ms/step - loss: 2.3888e-04 - val_loss: 0.0140\n",
            "Epoch 64/100\n",
            "12/12 [==============================] - 2s 200ms/step - loss: 2.4351e-04 - val_loss: 0.0077\n",
            "Epoch 65/100\n",
            "12/12 [==============================] - 2s 200ms/step - loss: 2.3745e-04 - val_loss: 0.0125\n",
            "Epoch 66/100\n",
            "12/12 [==============================] - 2s 198ms/step - loss: 2.3250e-04 - val_loss: 0.0082\n",
            "Epoch 67/100\n",
            "12/12 [==============================] - 2s 201ms/step - loss: 2.3797e-04 - val_loss: 0.0132\n",
            "Epoch 68/100\n",
            "12/12 [==============================] - 2s 198ms/step - loss: 2.2514e-04 - val_loss: 0.0170\n",
            "Epoch 69/100\n",
            "12/12 [==============================] - 2s 199ms/step - loss: 2.1642e-04 - val_loss: 0.0083\n",
            "Epoch 70/100\n",
            "12/12 [==============================] - 2s 204ms/step - loss: 2.4925e-04 - val_loss: 0.0197\n",
            "Epoch 71/100\n",
            "12/12 [==============================] - 2s 196ms/step - loss: 2.2046e-04 - val_loss: 0.0301\n",
            "Epoch 72/100\n",
            "12/12 [==============================] - 2s 197ms/step - loss: 2.1532e-04 - val_loss: 0.0170\n",
            "Epoch 73/100\n",
            "12/12 [==============================] - 2s 195ms/step - loss: 2.0555e-04 - val_loss: 0.0152\n",
            "Epoch 74/100\n",
            "12/12 [==============================] - 2s 198ms/step - loss: 2.2302e-04 - val_loss: 0.0139\n",
            "Epoch 75/100\n",
            "12/12 [==============================] - 2s 201ms/step - loss: 2.3885e-04 - val_loss: 0.0458\n",
            "Epoch 76/100\n",
            "12/12 [==============================] - 2s 205ms/step - loss: 2.2134e-04 - val_loss: 0.0108\n",
            "Epoch 77/100\n",
            "12/12 [==============================] - 2s 201ms/step - loss: 2.1659e-04 - val_loss: 0.0756\n",
            "Epoch 78/100\n",
            "12/12 [==============================] - 2s 200ms/step - loss: 2.6996e-04 - val_loss: 0.0086\n",
            "Epoch 79/100\n",
            "12/12 [==============================] - 2s 207ms/step - loss: 2.8637e-04 - val_loss: 0.0140\n",
            "Epoch 80/100\n",
            "12/12 [==============================] - 2s 200ms/step - loss: 2.0903e-04 - val_loss: 0.0292\n",
            "Epoch 81/100\n",
            "12/12 [==============================] - 2s 201ms/step - loss: 2.0376e-04 - val_loss: 0.0181\n",
            "Epoch 82/100\n",
            "12/12 [==============================] - 2s 199ms/step - loss: 2.0384e-04 - val_loss: 0.0259\n",
            "Epoch 83/100\n",
            "12/12 [==============================] - 2s 197ms/step - loss: 1.9556e-04 - val_loss: 0.0346\n",
            "Epoch 84/100\n",
            "12/12 [==============================] - 2s 195ms/step - loss: 1.8993e-04 - val_loss: 0.0459\n",
            "Epoch 85/100\n",
            "12/12 [==============================] - 2s 201ms/step - loss: 1.9351e-04 - val_loss: 0.0452\n",
            "Epoch 86/100\n",
            "12/12 [==============================] - 2s 200ms/step - loss: 1.8967e-04 - val_loss: 0.0347\n",
            "Epoch 87/100\n",
            "12/12 [==============================] - 3s 209ms/step - loss: 1.7900e-04 - val_loss: 0.0452\n",
            "Epoch 88/100\n",
            "12/12 [==============================] - 2s 195ms/step - loss: 1.8396e-04 - val_loss: 0.0168\n",
            "Epoch 89/100\n",
            "12/12 [==============================] - 2s 198ms/step - loss: 2.0894e-04 - val_loss: 0.0348\n",
            "Epoch 90/100\n",
            "12/12 [==============================] - 2s 197ms/step - loss: 1.9447e-04 - val_loss: 0.0618\n",
            "Epoch 91/100\n",
            "12/12 [==============================] - 2s 200ms/step - loss: 2.0202e-04 - val_loss: 0.0244\n",
            "Epoch 92/100\n",
            "12/12 [==============================] - 2s 201ms/step - loss: 1.8675e-04 - val_loss: 0.0327\n",
            "Epoch 93/100\n",
            "12/12 [==============================] - 2s 200ms/step - loss: 1.7353e-04 - val_loss: 0.0349\n",
            "Epoch 94/100\n",
            "12/12 [==============================] - 2s 203ms/step - loss: 1.6896e-04 - val_loss: 0.0350\n",
            "Epoch 95/100\n",
            "12/12 [==============================] - 2s 204ms/step - loss: 1.7973e-04 - val_loss: 0.0371\n",
            "Epoch 96/100\n",
            "12/12 [==============================] - 2s 203ms/step - loss: 1.7469e-04 - val_loss: 0.0672\n",
            "Epoch 97/100\n",
            "12/12 [==============================] - 2s 198ms/step - loss: 1.8023e-04 - val_loss: 0.0254\n",
            "Epoch 98/100\n",
            "12/12 [==============================] - 2s 196ms/step - loss: 1.6670e-04 - val_loss: 0.0483\n",
            "Epoch 99/100\n",
            "12/12 [==============================] - 2s 200ms/step - loss: 1.6332e-04 - val_loss: 0.0336\n",
            "Epoch 100/100\n",
            "12/12 [==============================] - 2s 198ms/step - loss: 1.6014e-04 - val_loss: 0.0470\n"
          ]
        },
        {
          "output_type": "execute_result",
          "data": {
            "text/plain": [
              "<keras.callbacks.History at 0x7f5eb22dc910>"
            ]
          },
          "metadata": {},
          "execution_count": 22
        }
      ]
    },
    {
      "cell_type": "code",
      "source": [
        "import tensorflow as tf\n",
        "tf.__version__"
      ],
      "metadata": {
        "id": "e3ZZKgucEpmY",
        "colab": {
          "base_uri": "https://localhost:8080/",
          "height": 35
        },
        "outputId": "2c038b5f-83ff-427f-de41-eacb7c03b208"
      },
      "execution_count": 23,
      "outputs": [
        {
          "output_type": "execute_result",
          "data": {
            "text/plain": [
              "'2.8.0'"
            ],
            "application/vnd.google.colaboratory.intrinsic+json": {
              "type": "string"
            }
          },
          "metadata": {},
          "execution_count": 23
        }
      ]
    },
    {
      "cell_type": "code",
      "source": [
        "### Lets Do the prediction and check performance metrics\n",
        "train_predict=model.predict(X_train)\n",
        "test_predict=model.predict(X_test)"
      ],
      "metadata": {
        "id": "0ysRhY6EEz7U"
      },
      "execution_count": 24,
      "outputs": []
    },
    {
      "cell_type": "code",
      "source": [
        "import math\n",
        "from sklearn.metrics import mean_squared_error\n",
        "math.sqrt(mean_squared_error(y_train,train_predict))"
      ],
      "metadata": {
        "id": "7xxBlEDXfM_Y",
        "colab": {
          "base_uri": "https://localhost:8080/"
        },
        "outputId": "69c91ee2-0e1e-49f3-b08e-a7c640f1ea4a"
      },
      "execution_count": 25,
      "outputs": [
        {
          "output_type": "execute_result",
          "data": {
            "text/plain": [
              "0.012569771672922881"
            ]
          },
          "metadata": {},
          "execution_count": 25
        }
      ]
    },
    {
      "cell_type": "code",
      "source": [
        "math.sqrt(mean_squared_error(y_test,test_predict))"
      ],
      "metadata": {
        "id": "zLEIeROEfP5o",
        "colab": {
          "base_uri": "https://localhost:8080/"
        },
        "outputId": "5e9ffaaa-7521-4222-e9a8-d5640f7aac12"
      },
      "execution_count": 26,
      "outputs": [
        {
          "output_type": "execute_result",
          "data": {
            "text/plain": [
              "0.21671960412622324"
            ]
          },
          "metadata": {},
          "execution_count": 26
        }
      ]
    },
    {
      "cell_type": "code",
      "source": [
        "look_back=100\n",
        "trainPredictPlot = numpy.empty_like(df2)\n",
        "trainPredictPlot[:, :] = np.nan\n",
        "trainPredictPlot[look_back:len(train_predict)+look_back, :] = train_predict\n",
        "# shift test predictions for plotting\n",
        "testPredictPlot = numpy.empty_like(df2)\n",
        "testPredictPlot[:, :] = numpy.nan\n",
        "testPredictPlot[len(train_predict)+(look_back*2)+1:len(df2)-1, :] = test_predict\n",
        "# plot baseline and predictions\n",
        "plt.plot(scaler.inverse_transform(df2))\n",
        "plt.plot(trainPredictPlot)\n",
        "plt.plot(testPredictPlot)\n",
        "plt.show()"
      ],
      "metadata": {
        "id": "rXFMjSHrfSaz",
        "colab": {
          "base_uri": "https://localhost:8080/",
          "height": 265
        },
        "outputId": "88fe7348-1a40-4f29-efab-b7027c6f4bc0"
      },
      "execution_count": 27,
      "outputs": [
        {
          "output_type": "display_data",
          "data": {
            "text/plain": [
              "<Figure size 432x288 with 1 Axes>"
            ],
            "image/png": "[encoded data removed]"
          },
          "metadata": {
            "needs_background": "light"
          }
        }
      ]
    },
    {
      "cell_type": "code",
      "source": [
        "len(test_data)"
      ],
      "metadata": {
        "id": "t8tRtR_wfVoo",
        "colab": {
          "base_uri": "https://localhost:8080/"
        },
        "outputId": "5ae2d9da-451a-413a-e409-d43f7b007cf1"
      },
      "execution_count": 28,
      "outputs": [
        {
          "output_type": "execute_result",
          "data": {
            "text/plain": [
              "441"
            ]
          },
          "metadata": {},
          "execution_count": 28
        }
      ]
    },
    {
      "cell_type": "code",
      "source": [
        "x_input=test_data[341:].reshape(1,-1)\n",
        "x_input.shape\n"
      ],
      "metadata": {
        "id": "RROOrM30fX_I",
        "colab": {
          "base_uri": "https://localhost:8080/"
        },
        "outputId": "76db5ad8-5797-47b1-eb6f-6780714bdbff"
      },
      "execution_count": 29,
      "outputs": [
        {
          "output_type": "execute_result",
          "data": {
            "text/plain": [
              "(1, 100)"
            ]
          },
          "metadata": {},
          "execution_count": 29
        }
      ]
    },
    {
      "cell_type": "code",
      "source": [
        "temp_input=list(x_input)\n",
        "temp_input=temp_input[0].tolist()"
      ],
      "metadata": {
        "id": "GSM11xM0fguY"
      },
      "execution_count": 30,
      "outputs": []
    },
    {
      "cell_type": "code",
      "source": [
        "temp_input"
      ],
      "metadata": {
        "id": "xhhqv0EjfjjZ",
        "colab": {
          "base_uri": "https://localhost:8080/"
        },
        "outputId": "25d9e536-f22f-4495-e4ba-5f486e51ad74"
      },
      "execution_count": 31,
      "outputs": [
        {
          "output_type": "execute_result",
          "data": {
            "text/plain": [
              "[0.9632287573871827,\n",
              " 0.9271945057324078,\n",
              " 0.9576690818474523,\n",
              " 0.9239333207430711,\n",
              " 0.9162501900054814,\n",
              " 0.9361351272921572,\n",
              " 0.9245643692508947,\n",
              " 0.9363193750316674,\n",
              " 0.9753798958079034,\n",
              " 0.981681168499164,\n",
              " 0.9760201567027025,\n",
              " 0.9812620048917775,\n",
              " 0.9631089963565009,\n",
              " 0.9471347173409366,\n",
              " 0.9692260213082511,\n",
              " 0.9459186822601671,\n",
              " 0.9271668685714811,\n",
              " 0.9234680952008072,\n",
              " 0.9402254271092911,\n",
              " 0.9653614249720175,\n",
              " 0.9671440218517819,\n",
              " 0.9756332364497304,\n",
              " 0.9607460190972783,\n",
              " 0.9612665189613956,\n",
              " 0.9566419006996809,\n",
              " 0.9444539127310583,\n",
              " 0.9480928055863913,\n",
              " 0.9420310549564945,\n",
              " 0.8797276818410036,\n",
              " 0.8787834121760119,\n",
              " 0.8737488426938862,\n",
              " 0.8882076840519764,\n",
              " 0.90150576465115,\n",
              " 0.9165265616147471,\n",
              " 0.8933389835973449,\n",
              " 0.8993777032598032,\n",
              " 0.8671711983933597,\n",
              " 0.8612890893094856,\n",
              " 0.8415239130534917,\n",
              " 0.8100682177255538,\n",
              " 0.8126476860787015,\n",
              " 0.7791468408421964,\n",
              " 0.8022192640224046,\n",
              " 0.8011229899723169,\n",
              " 0.8395248250798022,\n",
              " 0.8617174653038475,\n",
              " 0.881800468910497,\n",
              " 0.9753798958079034,\n",
              " 0.9257619795577134,\n",
              " 0.9291291069972687,\n",
              " 0.8915609929110684,\n",
              " 0.8940943993293384,\n",
              " 0.9147301461545194,\n",
              " 0.8884702370807789,\n",
              " 0.8472678363327328,\n",
              " 0.8580463290940998,\n",
              " 0.8684148706350561,\n",
              " 0.8781984256030659,\n",
              " 0.83048747345681,\n",
              " 0.8135274690348642,\n",
              " 0.8037162769059278,\n",
              " 0.7869727635779067,\n",
              " 0.8338499947028775,\n",
              " 0.8508560610597009,\n",
              " 0.8542784628211093,\n",
              " 0.8476179070378032,\n",
              " 0.8529933348380232,\n",
              " 0.8489076412143768,\n",
              " 0.8287693632858741,\n",
              " 0.7766502839718286,\n",
              " 0.7841491669699079,\n",
              " 0.8448357661711938,\n",
              " 0.8339282999921693,\n",
              " 0.8136011681306685,\n",
              " 0.7791975089705618,\n",
              " 0.8060930727456137,\n",
              " 0.8432189922569888,\n",
              " 0.8516022644047188,\n",
              " 0.8718787281378542,\n",
              " 0.8689031271447589,\n",
              " 0.903900985264787,\n",
              " 0.8875582107702016,\n",
              " 0.9134311995909699,\n",
              " 0.915361194662343,\n",
              " 0.9193087024813564,\n",
              " 0.931284805549542,\n",
              " 0.9257067052358601,\n",
              " 0.8981156062441558,\n",
              " 0.9077932187619473,\n",
              " 0.9349006674374363,\n",
              " 0.9111373152340638,\n",
              " 0.875328767060189,\n",
              " 0.8687787599205894,\n",
              " 0.8461669560891576,\n",
              " 0.8073459573742854,\n",
              " 0.7942459430950854,\n",
              " 0.811855420798806,\n",
              " 0.7839142511020318,\n",
              " 0.790436621080705,\n",
              " 0.8141124556078101]"
            ]
          },
          "metadata": {},
          "execution_count": 31
        }
      ]
    },
    {
      "cell_type": "code",
      "source": [
        "from numpy import array\n",
        "\n",
        "lst_output=[]\n",
        "n_steps=100\n",
        "i=0\n",
        "while(i<30):\n",
        "    \n",
        "    if(len(temp_input)>100):\n",
        "        #print(temp_input)\n",
        "        x_input=np.array(temp_input[1:])\n",
        "        print(\"{} day input {}\".format(i,x_input))\n",
        "        x_input=x_input.reshape(1,-1)\n",
        "        x_input = x_input.reshape((1, n_steps, 1))\n",
        "        #print(x_input)\n",
        "        yhat = model.predict(x_input, verbose=0)\n",
        "        print(\"{} day output {}\".format(i,yhat))\n",
        "        temp_input.extend(yhat[0].tolist())\n",
        "        temp_input=temp_input[1:]\n",
        "        #print(temp_input)\n",
        "        lst_output.extend(yhat.tolist())\n",
        "        i=i+1\n",
        "    else:\n",
        "        x_input = x_input.reshape((1, n_steps,1))\n",
        "        yhat = model.predict(x_input, verbose=0)\n",
        "        print(yhat[0])\n",
        "        temp_input.extend(yhat[0].tolist())\n",
        "        print(len(temp_input))\n",
        "        lst_output.extend(yhat.tolist())\n",
        "        i=i+1\n",
        "    \n",
        "\n",
        "print(lst_output)"
      ],
      "metadata": {
        "id": "oR7HJQcvfl_a",
        "colab": {
          "base_uri": "https://localhost:8080/"
        },
        "outputId": "61c3c315-1fd1-4dab-f8ed-ba7edec7c54f"
      },
      "execution_count": 32,
      "outputs": [
        {
          "output_type": "stream",
          "name": "stdout",
          "text": [
            "[1.0616194]\n",
            "101\n",
            "1 day input [0.92719451 0.95766908 0.92393332 0.91625019 0.93613513 0.92456437\n",
            " 0.93631938 0.9753799  0.98168117 0.97602016 0.981262   0.963109\n",
            " 0.94713472 0.96922602 0.94591868 0.92716687 0.9234681  0.94022543\n",
            " 0.96536142 0.96714402 0.97563324 0.96074602 0.96126652 0.9566419\n",
            " 0.94445391 0.94809281 0.94203105 0.87972768 0.87878341 0.87374884\n",
            " 0.88820768 0.90150576 0.91652656 0.89333898 0.8993777  0.8671712\n",
            " 0.86128909 0.84152391 0.81006822 0.81264769 0.77914684 0.80221926\n",
            " 0.80112299 0.83952483 0.86171747 0.88180047 0.9753799  0.92576198\n",
            " 0.92912911 0.89156099 0.8940944  0.91473015 0.88847024 0.84726784\n",
            " 0.85804633 0.86841487 0.87819843 0.83048747 0.81352747 0.80371628\n",
            " 0.78697276 0.83384999 0.85085606 0.85427846 0.84761791 0.85299333\n",
            " 0.84890764 0.82876936 0.77665028 0.78414917 0.84483577 0.8339283\n",
            " 0.81360117 0.77919751 0.80609307 0.84321899 0.85160226 0.87187873\n",
            " 0.86890313 0.90390099 0.88755821 0.9134312  0.91536119 0.9193087\n",
            " 0.93128481 0.92570671 0.89811561 0.90779322 0.93490067 0.91113732\n",
            " 0.87532877 0.86877876 0.84616696 0.80734596 0.79424594 0.81185542\n",
            " 0.78391425 0.79043662 0.81411246 1.0616194 ]\n",
            "1 day output [[1.17839]]\n",
            "2 day input [0.95766908 0.92393332 0.91625019 0.93613513 0.92456437 0.93631938\n",
            " 0.9753799  0.98168117 0.97602016 0.981262   0.963109   0.94713472\n",
            " 0.96922602 0.94591868 0.92716687 0.9234681  0.94022543 0.96536142\n",
            " 0.96714402 0.97563324 0.96074602 0.96126652 0.9566419  0.94445391\n",
            " 0.94809281 0.94203105 0.87972768 0.87878341 0.87374884 0.88820768\n",
            " 0.90150576 0.91652656 0.89333898 0.8993777  0.8671712  0.86128909\n",
            " 0.84152391 0.81006822 0.81264769 0.77914684 0.80221926 0.80112299\n",
            " 0.83952483 0.86171747 0.88180047 0.9753799  0.92576198 0.92912911\n",
            " 0.89156099 0.8940944  0.91473015 0.88847024 0.84726784 0.85804633\n",
            " 0.86841487 0.87819843 0.83048747 0.81352747 0.80371628 0.78697276\n",
            " 0.83384999 0.85085606 0.85427846 0.84761791 0.85299333 0.84890764\n",
            " 0.82876936 0.77665028 0.78414917 0.84483577 0.8339283  0.81360117\n",
            " 0.77919751 0.80609307 0.84321899 0.85160226 0.87187873 0.86890313\n",
            " 0.90390099 0.88755821 0.9134312  0.91536119 0.9193087  0.93128481\n",
            " 0.92570671 0.89811561 0.90779322 0.93490067 0.91113732 0.87532877\n",
            " 0.86877876 0.84616696 0.80734596 0.79424594 0.81185542 0.78391425\n",
            " 0.79043662 0.81411246 1.0616194  1.17839003]\n",
            "2 day output [[1.3629375]]\n",
            "3 day input [0.92393332 0.91625019 0.93613513 0.92456437 0.93631938 0.9753799\n",
            " 0.98168117 0.97602016 0.981262   0.963109   0.94713472 0.96922602\n",
            " 0.94591868 0.92716687 0.9234681  0.94022543 0.96536142 0.96714402\n",
            " 0.97563324 0.96074602 0.96126652 0.9566419  0.94445391 0.94809281\n",
            " 0.94203105 0.87972768 0.87878341 0.87374884 0.88820768 0.90150576\n",
            " 0.91652656 0.89333898 0.8993777  0.8671712  0.86128909 0.84152391\n",
            " 0.81006822 0.81264769 0.77914684 0.80221926 0.80112299 0.83952483\n",
            " 0.86171747 0.88180047 0.9753799  0.92576198 0.92912911 0.89156099\n",
            " 0.8940944  0.91473015 0.88847024 0.84726784 0.85804633 0.86841487\n",
            " 0.87819843 0.83048747 0.81352747 0.80371628 0.78697276 0.83384999\n",
            " 0.85085606 0.85427846 0.84761791 0.85299333 0.84890764 0.82876936\n",
            " 0.77665028 0.78414917 0.84483577 0.8339283  0.81360117 0.77919751\n",
            " 0.80609307 0.84321899 0.85160226 0.87187873 0.86890313 0.90390099\n",
            " 0.88755821 0.9134312  0.91536119 0.9193087  0.93128481 0.92570671\n",
            " 0.89811561 0.90779322 0.93490067 0.91113732 0.87532877 0.86877876\n",
            " 0.84616696 0.80734596 0.79424594 0.81185542 0.78391425 0.79043662\n",
            " 0.81411246 1.0616194  1.17839003 1.36293745]\n",
            "3 day output [[1.5849903]]\n",
            "4 day input [0.91625019 0.93613513 0.92456437 0.93631938 0.9753799  0.98168117\n",
            " 0.97602016 0.981262   0.963109   0.94713472 0.96922602 0.94591868\n",
            " 0.92716687 0.9234681  0.94022543 0.96536142 0.96714402 0.97563324\n",
            " 0.96074602 0.96126652 0.9566419  0.94445391 0.94809281 0.94203105\n",
            " 0.87972768 0.87878341 0.87374884 0.88820768 0.90150576 0.91652656\n",
            " 0.89333898 0.8993777  0.8671712  0.86128909 0.84152391 0.81006822\n",
            " 0.81264769 0.77914684 0.80221926 0.80112299 0.83952483 0.86171747\n",
            " 0.88180047 0.9753799  0.92576198 0.92912911 0.89156099 0.8940944\n",
            " 0.91473015 0.88847024 0.84726784 0.85804633 0.86841487 0.87819843\n",
            " 0.83048747 0.81352747 0.80371628 0.78697276 0.83384999 0.85085606\n",
            " 0.85427846 0.84761791 0.85299333 0.84890764 0.82876936 0.77665028\n",
            " 0.78414917 0.84483577 0.8339283  0.81360117 0.77919751 0.80609307\n",
            " 0.84321899 0.85160226 0.87187873 0.86890313 0.90390099 0.88755821\n",
            " 0.9134312  0.91536119 0.9193087  0.93128481 0.92570671 0.89811561\n",
            " 0.90779322 0.93490067 0.91113732 0.87532877 0.86877876 0.84616696\n",
            " 0.80734596 0.79424594 0.81185542 0.78391425 0.79043662 0.81411246\n",
            " 1.0616194  1.17839003 1.36293745 1.58499026]\n",
            "4 day output [[1.8248324]]\n",
            "5 day input [0.93613513 0.92456437 0.93631938 0.9753799  0.98168117 0.97602016\n",
            " 0.981262   0.963109   0.94713472 0.96922602 0.94591868 0.92716687\n",
            " 0.9234681  0.94022543 0.96536142 0.96714402 0.97563324 0.96074602\n",
            " 0.96126652 0.9566419  0.94445391 0.94809281 0.94203105 0.87972768\n",
            " 0.87878341 0.87374884 0.88820768 0.90150576 0.91652656 0.89333898\n",
            " 0.8993777  0.8671712  0.86128909 0.84152391 0.81006822 0.81264769\n",
            " 0.77914684 0.80221926 0.80112299 0.83952483 0.86171747 0.88180047\n",
            " 0.9753799  0.92576198 0.92912911 0.89156099 0.8940944  0.91473015\n",
            " 0.88847024 0.84726784 0.85804633 0.86841487 0.87819843 0.83048747\n",
            " 0.81352747 0.80371628 0.78697276 0.83384999 0.85085606 0.85427846\n",
            " 0.84761791 0.85299333 0.84890764 0.82876936 0.77665028 0.78414917\n",
            " 0.84483577 0.8339283  0.81360117 0.77919751 0.80609307 0.84321899\n",
            " 0.85160226 0.87187873 0.86890313 0.90390099 0.88755821 0.9134312\n",
            " 0.91536119 0.9193087  0.93128481 0.92570671 0.89811561 0.90779322\n",
            " 0.93490067 0.91113732 0.87532877 0.86877876 0.84616696 0.80734596\n",
            " 0.79424594 0.81185542 0.78391425 0.79043662 0.81411246 1.0616194\n",
            " 1.17839003 1.36293745 1.58499026 1.82483244]\n",
            "5 day output [[2.0658417]]\n",
            "6 day input [0.92456437 0.93631938 0.9753799  0.98168117 0.97602016 0.981262\n",
            " 0.963109   0.94713472 0.96922602 0.94591868 0.92716687 0.9234681\n",
            " 0.94022543 0.96536142 0.96714402 0.97563324 0.96074602 0.96126652\n",
            " 0.9566419  0.94445391 0.94809281 0.94203105 0.87972768 0.87878341\n",
            " 0.87374884 0.88820768 0.90150576 0.91652656 0.89333898 0.8993777\n",
            " 0.8671712  0.86128909 0.84152391 0.81006822 0.81264769 0.77914684\n",
            " 0.80221926 0.80112299 0.83952483 0.86171747 0.88180047 0.9753799\n",
            " 0.92576198 0.92912911 0.89156099 0.8940944  0.91473015 0.88847024\n",
            " 0.84726784 0.85804633 0.86841487 0.87819843 0.83048747 0.81352747\n",
            " 0.80371628 0.78697276 0.83384999 0.85085606 0.85427846 0.84761791\n",
            " 0.85299333 0.84890764 0.82876936 0.77665028 0.78414917 0.84483577\n",
            " 0.8339283  0.81360117 0.77919751 0.80609307 0.84321899 0.85160226\n",
            " 0.87187873 0.86890313 0.90390099 0.88755821 0.9134312  0.91536119\n",
            " 0.9193087  0.93128481 0.92570671 0.89811561 0.90779322 0.93490067\n",
            " 0.91113732 0.87532877 0.86877876 0.84616696 0.80734596 0.79424594\n",
            " 0.81185542 0.78391425 0.79043662 0.81411246 1.0616194  1.17839003\n",
            " 1.36293745 1.58499026 1.82483244 2.06584167]\n",
            "6 day output [[2.294183]]\n",
            "7 day input [0.93631938 0.9753799  0.98168117 0.97602016 0.981262   0.963109\n",
            " 0.94713472 0.96922602 0.94591868 0.92716687 0.9234681  0.94022543\n",
            " 0.96536142 0.96714402 0.97563324 0.96074602 0.96126652 0.9566419\n",
            " 0.94445391 0.94809281 0.94203105 0.87972768 0.87878341 0.87374884\n",
            " 0.88820768 0.90150576 0.91652656 0.89333898 0.8993777  0.8671712\n",
            " 0.86128909 0.84152391 0.81006822 0.81264769 0.77914684 0.80221926\n",
            " 0.80112299 0.83952483 0.86171747 0.88180047 0.9753799  0.92576198\n",
            " 0.92912911 0.89156099 0.8940944  0.91473015 0.88847024 0.84726784\n",
            " 0.85804633 0.86841487 0.87819843 0.83048747 0.81352747 0.80371628\n",
            " 0.78697276 0.83384999 0.85085606 0.85427846 0.84761791 0.85299333\n",
            " 0.84890764 0.82876936 0.77665028 0.78414917 0.84483577 0.8339283\n",
            " 0.81360117 0.77919751 0.80609307 0.84321899 0.85160226 0.87187873\n",
            " 0.86890313 0.90390099 0.88755821 0.9134312  0.91536119 0.9193087\n",
            " 0.93128481 0.92570671 0.89811561 0.90779322 0.93490067 0.91113732\n",
            " 0.87532877 0.86877876 0.84616696 0.80734596 0.79424594 0.81185542\n",
            " 0.78391425 0.79043662 0.81411246 1.0616194  1.17839003 1.36293745\n",
            " 1.58499026 1.82483244 2.06584167 2.29418302]\n",
            "7 day output [[2.5002706]]\n",
            "8 day input [0.9753799  0.98168117 0.97602016 0.981262   0.963109   0.94713472\n",
            " 0.96922602 0.94591868 0.92716687 0.9234681  0.94022543 0.96536142\n",
            " 0.96714402 0.97563324 0.96074602 0.96126652 0.9566419  0.94445391\n",
            " 0.94809281 0.94203105 0.87972768 0.87878341 0.87374884 0.88820768\n",
            " 0.90150576 0.91652656 0.89333898 0.8993777  0.8671712  0.86128909\n",
            " 0.84152391 0.81006822 0.81264769 0.77914684 0.80221926 0.80112299\n",
            " 0.83952483 0.86171747 0.88180047 0.9753799  0.92576198 0.92912911\n",
            " 0.89156099 0.8940944  0.91473015 0.88847024 0.84726784 0.85804633\n",
            " 0.86841487 0.87819843 0.83048747 0.81352747 0.80371628 0.78697276\n",
            " 0.83384999 0.85085606 0.85427846 0.84761791 0.85299333 0.84890764\n",
            " 0.82876936 0.77665028 0.78414917 0.84483577 0.8339283  0.81360117\n",
            " 0.77919751 0.80609307 0.84321899 0.85160226 0.87187873 0.86890313\n",
            " 0.90390099 0.88755821 0.9134312  0.91536119 0.9193087  0.93128481\n",
            " 0.92570671 0.89811561 0.90779322 0.93490067 0.91113732 0.87532877\n",
            " 0.86877876 0.84616696 0.80734596 0.79424594 0.81185542 0.78391425\n",
            " 0.79043662 0.81411246 1.0616194  1.17839003 1.36293745 1.58499026\n",
            " 1.82483244 2.06584167 2.29418302 2.50027061]\n",
            "8 day output [[2.677581]]\n",
            "9 day input [0.98168117 0.97602016 0.981262   0.963109   0.94713472 0.96922602\n",
            " 0.94591868 0.92716687 0.9234681  0.94022543 0.96536142 0.96714402\n",
            " 0.97563324 0.96074602 0.96126652 0.9566419  0.94445391 0.94809281\n",
            " 0.94203105 0.87972768 0.87878341 0.87374884 0.88820768 0.90150576\n",
            " 0.91652656 0.89333898 0.8993777  0.8671712  0.86128909 0.84152391\n",
            " 0.81006822 0.81264769 0.77914684 0.80221926 0.80112299 0.83952483\n",
            " 0.86171747 0.88180047 0.9753799  0.92576198 0.92912911 0.89156099\n",
            " 0.8940944  0.91473015 0.88847024 0.84726784 0.85804633 0.86841487\n",
            " 0.87819843 0.83048747 0.81352747 0.80371628 0.78697276 0.83384999\n",
            " 0.85085606 0.85427846 0.84761791 0.85299333 0.84890764 0.82876936\n",
            " 0.77665028 0.78414917 0.84483577 0.8339283  0.81360117 0.77919751\n",
            " 0.80609307 0.84321899 0.85160226 0.87187873 0.86890313 0.90390099\n",
            " 0.88755821 0.9134312  0.91536119 0.9193087  0.93128481 0.92570671\n",
            " 0.89811561 0.90779322 0.93490067 0.91113732 0.87532877 0.86877876\n",
            " 0.84616696 0.80734596 0.79424594 0.81185542 0.78391425 0.79043662\n",
            " 0.81411246 1.0616194  1.17839003 1.36293745 1.58499026 1.82483244\n",
            " 2.06584167 2.29418302 2.50027061 2.67758107]\n",
            "9 day output [[2.8221083]]\n",
            "10 day input [0.97602016 0.981262   0.963109   0.94713472 0.96922602 0.94591868\n",
            " 0.92716687 0.9234681  0.94022543 0.96536142 0.96714402 0.97563324\n",
            " 0.96074602 0.96126652 0.9566419  0.94445391 0.94809281 0.94203105\n",
            " 0.87972768 0.87878341 0.87374884 0.88820768 0.90150576 0.91652656\n",
            " 0.89333898 0.8993777  0.8671712  0.86128909 0.84152391 0.81006822\n",
            " 0.81264769 0.77914684 0.80221926 0.80112299 0.83952483 0.86171747\n",
            " 0.88180047 0.9753799  0.92576198 0.92912911 0.89156099 0.8940944\n",
            " 0.91473015 0.88847024 0.84726784 0.85804633 0.86841487 0.87819843\n",
            " 0.83048747 0.81352747 0.80371628 0.78697276 0.83384999 0.85085606\n",
            " 0.85427846 0.84761791 0.85299333 0.84890764 0.82876936 0.77665028\n",
            " 0.78414917 0.84483577 0.8339283  0.81360117 0.77919751 0.80609307\n",
            " 0.84321899 0.85160226 0.87187873 0.86890313 0.90390099 0.88755821\n",
            " 0.9134312  0.91536119 0.9193087  0.93128481 0.92570671 0.89811561\n",
            " 0.90779322 0.93490067 0.91113732 0.87532877 0.86877876 0.84616696\n",
            " 0.80734596 0.79424594 0.81185542 0.78391425 0.79043662 0.81411246\n",
            " 1.0616194  1.17839003 1.36293745 1.58499026 1.82483244 2.06584167\n",
            " 2.29418302 2.50027061 2.67758107 2.82210827]\n",
            "10 day output [[2.9361887]]\n",
            "11 day input [0.981262   0.963109   0.94713472 0.96922602 0.94591868 0.92716687\n",
            " 0.9234681  0.94022543 0.96536142 0.96714402 0.97563324 0.96074602\n",
            " 0.96126652 0.9566419  0.94445391 0.94809281 0.94203105 0.87972768\n",
            " 0.87878341 0.87374884 0.88820768 0.90150576 0.91652656 0.89333898\n",
            " 0.8993777  0.8671712  0.86128909 0.84152391 0.81006822 0.81264769\n",
            " 0.77914684 0.80221926 0.80112299 0.83952483 0.86171747 0.88180047\n",
            " 0.9753799  0.92576198 0.92912911 0.89156099 0.8940944  0.91473015\n",
            " 0.88847024 0.84726784 0.85804633 0.86841487 0.87819843 0.83048747\n",
            " 0.81352747 0.80371628 0.78697276 0.83384999 0.85085606 0.85427846\n",
            " 0.84761791 0.85299333 0.84890764 0.82876936 0.77665028 0.78414917\n",
            " 0.84483577 0.8339283  0.81360117 0.77919751 0.80609307 0.84321899\n",
            " 0.85160226 0.87187873 0.86890313 0.90390099 0.88755821 0.9134312\n",
            " 0.91536119 0.9193087  0.93128481 0.92570671 0.89811561 0.90779322\n",
            " 0.93490067 0.91113732 0.87532877 0.86877876 0.84616696 0.80734596\n",
            " 0.79424594 0.81185542 0.78391425 0.79043662 0.81411246 1.0616194\n",
            " 1.17839003 1.36293745 1.58499026 1.82483244 2.06584167 2.29418302\n",
            " 2.50027061 2.67758107 2.82210827 2.9361887 ]\n",
            "11 day output [[3.0315204]]\n",
            "12 day input [0.963109   0.94713472 0.96922602 0.94591868 0.92716687 0.9234681\n",
            " 0.94022543 0.96536142 0.96714402 0.97563324 0.96074602 0.96126652\n",
            " 0.9566419  0.94445391 0.94809281 0.94203105 0.87972768 0.87878341\n",
            " 0.87374884 0.88820768 0.90150576 0.91652656 0.89333898 0.8993777\n",
            " 0.8671712  0.86128909 0.84152391 0.81006822 0.81264769 0.77914684\n",
            " 0.80221926 0.80112299 0.83952483 0.86171747 0.88180047 0.9753799\n",
            " 0.92576198 0.92912911 0.89156099 0.8940944  0.91473015 0.88847024\n",
            " 0.84726784 0.85804633 0.86841487 0.87819843 0.83048747 0.81352747\n",
            " 0.80371628 0.78697276 0.83384999 0.85085606 0.85427846 0.84761791\n",
            " 0.85299333 0.84890764 0.82876936 0.77665028 0.78414917 0.84483577\n",
            " 0.8339283  0.81360117 0.77919751 0.80609307 0.84321899 0.85160226\n",
            " 0.87187873 0.86890313 0.90390099 0.88755821 0.9134312  0.91536119\n",
            " 0.9193087  0.93128481 0.92570671 0.89811561 0.90779322 0.93490067\n",
            " 0.91113732 0.87532877 0.86877876 0.84616696 0.80734596 0.79424594\n",
            " 0.81185542 0.78391425 0.79043662 0.81411246 1.0616194  1.17839003\n",
            " 1.36293745 1.58499026 1.82483244 2.06584167 2.29418302 2.50027061\n",
            " 2.67758107 2.82210827 2.9361887  3.03152037]\n",
            "12 day output [[3.1212914]]\n",
            "13 day input [0.94713472 0.96922602 0.94591868 0.92716687 0.9234681  0.94022543\n",
            " 0.96536142 0.96714402 0.97563324 0.96074602 0.96126652 0.9566419\n",
            " 0.94445391 0.94809281 0.94203105 0.87972768 0.87878341 0.87374884\n",
            " 0.88820768 0.90150576 0.91652656 0.89333898 0.8993777  0.8671712\n",
            " 0.86128909 0.84152391 0.81006822 0.81264769 0.77914684 0.80221926\n",
            " 0.80112299 0.83952483 0.86171747 0.88180047 0.9753799  0.92576198\n",
            " 0.92912911 0.89156099 0.8940944  0.91473015 0.88847024 0.84726784\n",
            " 0.85804633 0.86841487 0.87819843 0.83048747 0.81352747 0.80371628\n",
            " 0.78697276 0.83384999 0.85085606 0.85427846 0.84761791 0.85299333\n",
            " 0.84890764 0.82876936 0.77665028 0.78414917 0.84483577 0.8339283\n",
            " 0.81360117 0.77919751 0.80609307 0.84321899 0.85160226 0.87187873\n",
            " 0.86890313 0.90390099 0.88755821 0.9134312  0.91536119 0.9193087\n",
            " 0.93128481 0.92570671 0.89811561 0.90779322 0.93490067 0.91113732\n",
            " 0.87532877 0.86877876 0.84616696 0.80734596 0.79424594 0.81185542\n",
            " 0.78391425 0.79043662 0.81411246 1.0616194  1.17839003 1.36293745\n",
            " 1.58499026 1.82483244 2.06584167 2.29418302 2.50027061 2.67758107\n",
            " 2.82210827 2.9361887  3.03152037 3.1212914 ]\n",
            "13 day output [[3.2099547]]\n",
            "14 day input [0.96922602 0.94591868 0.92716687 0.9234681  0.94022543 0.96536142\n",
            " 0.96714402 0.97563324 0.96074602 0.96126652 0.9566419  0.94445391\n",
            " 0.94809281 0.94203105 0.87972768 0.87878341 0.87374884 0.88820768\n",
            " 0.90150576 0.91652656 0.89333898 0.8993777  0.8671712  0.86128909\n",
            " 0.84152391 0.81006822 0.81264769 0.77914684 0.80221926 0.80112299\n",
            " 0.83952483 0.86171747 0.88180047 0.9753799  0.92576198 0.92912911\n",
            " 0.89156099 0.8940944  0.91473015 0.88847024 0.84726784 0.85804633\n",
            " 0.86841487 0.87819843 0.83048747 0.81352747 0.80371628 0.78697276\n",
            " 0.83384999 0.85085606 0.85427846 0.84761791 0.85299333 0.84890764\n",
            " 0.82876936 0.77665028 0.78414917 0.84483577 0.8339283  0.81360117\n",
            " 0.77919751 0.80609307 0.84321899 0.85160226 0.87187873 0.86890313\n",
            " 0.90390099 0.88755821 0.9134312  0.91536119 0.9193087  0.93128481\n",
            " 0.92570671 0.89811561 0.90779322 0.93490067 0.91113732 0.87532877\n",
            " 0.86877876 0.84616696 0.80734596 0.79424594 0.81185542 0.78391425\n",
            " 0.79043662 0.81411246 1.0616194  1.17839003 1.36293745 1.58499026\n",
            " 1.82483244 2.06584167 2.29418302 2.50027061 2.67758107 2.82210827\n",
            " 2.9361887  3.03152037 3.1212914  3.20995474]\n",
            "14 day output [[3.2944326]]\n",
            "15 day input [0.94591868 0.92716687 0.9234681  0.94022543 0.96536142 0.96714402\n",
            " 0.97563324 0.96074602 0.96126652 0.9566419  0.94445391 0.94809281\n",
            " 0.94203105 0.87972768 0.87878341 0.87374884 0.88820768 0.90150576\n",
            " 0.91652656 0.89333898 0.8993777  0.8671712  0.86128909 0.84152391\n",
            " 0.81006822 0.81264769 0.77914684 0.80221926 0.80112299 0.83952483\n",
            " 0.86171747 0.88180047 0.9753799  0.92576198 0.92912911 0.89156099\n",
            " 0.8940944  0.91473015 0.88847024 0.84726784 0.85804633 0.86841487\n",
            " 0.87819843 0.83048747 0.81352747 0.80371628 0.78697276 0.83384999\n",
            " 0.85085606 0.85427846 0.84761791 0.85299333 0.84890764 0.82876936\n",
            " 0.77665028 0.78414917 0.84483577 0.8339283  0.81360117 0.77919751\n",
            " 0.80609307 0.84321899 0.85160226 0.87187873 0.86890313 0.90390099\n",
            " 0.88755821 0.9134312  0.91536119 0.9193087  0.93128481 0.92570671\n",
            " 0.89811561 0.90779322 0.93490067 0.91113732 0.87532877 0.86877876\n",
            " 0.84616696 0.80734596 0.79424594 0.81185542 0.78391425 0.79043662\n",
            " 0.81411246 1.0616194  1.17839003 1.36293745 1.58499026 1.82483244\n",
            " 2.06584167 2.29418302 2.50027061 2.67758107 2.82210827 2.9361887\n",
            " 3.03152037 3.1212914  3.20995474 3.29443264]\n",
            "15 day output [[3.3700132]]\n",
            "16 day input [0.92716687 0.9234681  0.94022543 0.96536142 0.96714402 0.97563324\n",
            " 0.96074602 0.96126652 0.9566419  0.94445391 0.94809281 0.94203105\n",
            " 0.87972768 0.87878341 0.87374884 0.88820768 0.90150576 0.91652656\n",
            " 0.89333898 0.8993777  0.8671712  0.86128909 0.84152391 0.81006822\n",
            " 0.81264769 0.77914684 0.80221926 0.80112299 0.83952483 0.86171747\n",
            " 0.88180047 0.9753799  0.92576198 0.92912911 0.89156099 0.8940944\n",
            " 0.91473015 0.88847024 0.84726784 0.85804633 0.86841487 0.87819843\n",
            " 0.83048747 0.81352747 0.80371628 0.78697276 0.83384999 0.85085606\n",
            " 0.85427846 0.84761791 0.85299333 0.84890764 0.82876936 0.77665028\n",
            " 0.78414917 0.84483577 0.8339283  0.81360117 0.77919751 0.80609307\n",
            " 0.84321899 0.85160226 0.87187873 0.86890313 0.90390099 0.88755821\n",
            " 0.9134312  0.91536119 0.9193087  0.93128481 0.92570671 0.89811561\n",
            " 0.90779322 0.93490067 0.91113732 0.87532877 0.86877876 0.84616696\n",
            " 0.80734596 0.79424594 0.81185542 0.78391425 0.79043662 0.81411246\n",
            " 1.0616194  1.17839003 1.36293745 1.58499026 1.82483244 2.06584167\n",
            " 2.29418302 2.50027061 2.67758107 2.82210827 2.9361887  3.03152037\n",
            " 3.1212914  3.20995474 3.29443264 3.37001324]\n",
            "16 day output [[3.4335618]]\n",
            "17 day input [0.9234681  0.94022543 0.96536142 0.96714402 0.97563324 0.96074602\n",
            " 0.96126652 0.9566419  0.94445391 0.94809281 0.94203105 0.87972768\n",
            " 0.87878341 0.87374884 0.88820768 0.90150576 0.91652656 0.89333898\n",
            " 0.8993777  0.8671712  0.86128909 0.84152391 0.81006822 0.81264769\n",
            " 0.77914684 0.80221926 0.80112299 0.83952483 0.86171747 0.88180047\n",
            " 0.9753799  0.92576198 0.92912911 0.89156099 0.8940944  0.91473015\n",
            " 0.88847024 0.84726784 0.85804633 0.86841487 0.87819843 0.83048747\n",
            " 0.81352747 0.80371628 0.78697276 0.83384999 0.85085606 0.85427846\n",
            " 0.84761791 0.85299333 0.84890764 0.82876936 0.77665028 0.78414917\n",
            " 0.84483577 0.8339283  0.81360117 0.77919751 0.80609307 0.84321899\n",
            " 0.85160226 0.87187873 0.86890313 0.90390099 0.88755821 0.9134312\n",
            " 0.91536119 0.9193087  0.93128481 0.92570671 0.89811561 0.90779322\n",
            " 0.93490067 0.91113732 0.87532877 0.86877876 0.84616696 0.80734596\n",
            " 0.79424594 0.81185542 0.78391425 0.79043662 0.81411246 1.0616194\n",
            " 1.17839003 1.36293745 1.58499026 1.82483244 2.06584167 2.29418302\n",
            " 2.50027061 2.67758107 2.82210827 2.9361887  3.03152037 3.1212914\n",
            " 3.20995474 3.29443264 3.37001324 3.4335618 ]\n",
            "17 day output [[3.4840813]]\n",
            "18 day input [0.94022543 0.96536142 0.96714402 0.97563324 0.96074602 0.96126652\n",
            " 0.9566419  0.94445391 0.94809281 0.94203105 0.87972768 0.87878341\n",
            " 0.87374884 0.88820768 0.90150576 0.91652656 0.89333898 0.8993777\n",
            " 0.8671712  0.86128909 0.84152391 0.81006822 0.81264769 0.77914684\n",
            " 0.80221926 0.80112299 0.83952483 0.86171747 0.88180047 0.9753799\n",
            " 0.92576198 0.92912911 0.89156099 0.8940944  0.91473015 0.88847024\n",
            " 0.84726784 0.85804633 0.86841487 0.87819843 0.83048747 0.81352747\n",
            " 0.80371628 0.78697276 0.83384999 0.85085606 0.85427846 0.84761791\n",
            " 0.85299333 0.84890764 0.82876936 0.77665028 0.78414917 0.84483577\n",
            " 0.8339283  0.81360117 0.77919751 0.80609307 0.84321899 0.85160226\n",
            " 0.87187873 0.86890313 0.90390099 0.88755821 0.9134312  0.91536119\n",
            " 0.9193087  0.93128481 0.92570671 0.89811561 0.90779322 0.93490067\n",
            " 0.91113732 0.87532877 0.86877876 0.84616696 0.80734596 0.79424594\n",
            " 0.81185542 0.78391425 0.79043662 0.81411246 1.0616194  1.17839003\n",
            " 1.36293745 1.58499026 1.82483244 2.06584167 2.29418302 2.50027061\n",
            " 2.67758107 2.82210827 2.9361887  3.03152037 3.1212914  3.20995474\n",
            " 3.29443264 3.37001324 3.4335618  3.48408127]\n",
            "18 day output [[3.522238]]\n",
            "19 day input [0.96536142 0.96714402 0.97563324 0.96074602 0.96126652 0.9566419\n",
            " 0.94445391 0.94809281 0.94203105 0.87972768 0.87878341 0.87374884\n",
            " 0.88820768 0.90150576 0.91652656 0.89333898 0.8993777  0.8671712\n",
            " 0.86128909 0.84152391 0.81006822 0.81264769 0.77914684 0.80221926\n",
            " 0.80112299 0.83952483 0.86171747 0.88180047 0.9753799  0.92576198\n",
            " 0.92912911 0.89156099 0.8940944  0.91473015 0.88847024 0.84726784\n",
            " 0.85804633 0.86841487 0.87819843 0.83048747 0.81352747 0.80371628\n",
            " 0.78697276 0.83384999 0.85085606 0.85427846 0.84761791 0.85299333\n",
            " 0.84890764 0.82876936 0.77665028 0.78414917 0.84483577 0.8339283\n",
            " 0.81360117 0.77919751 0.80609307 0.84321899 0.85160226 0.87187873\n",
            " 0.86890313 0.90390099 0.88755821 0.9134312  0.91536119 0.9193087\n",
            " 0.93128481 0.92570671 0.89811561 0.90779322 0.93490067 0.91113732\n",
            " 0.87532877 0.86877876 0.84616696 0.80734596 0.79424594 0.81185542\n",
            " 0.78391425 0.79043662 0.81411246 1.0616194  1.17839003 1.36293745\n",
            " 1.58499026 1.82483244 2.06584167 2.29418302 2.50027061 2.67758107\n",
            " 2.82210827 2.9361887  3.03152037 3.1212914  3.20995474 3.29443264\n",
            " 3.37001324 3.4335618  3.48408127 3.52223802]\n",
            "19 day output [[3.5497317]]\n",
            "20 day input [0.96714402 0.97563324 0.96074602 0.96126652 0.9566419  0.94445391\n",
            " 0.94809281 0.94203105 0.87972768 0.87878341 0.87374884 0.88820768\n",
            " 0.90150576 0.91652656 0.89333898 0.8993777  0.8671712  0.86128909\n",
            " 0.84152391 0.81006822 0.81264769 0.77914684 0.80221926 0.80112299\n",
            " 0.83952483 0.86171747 0.88180047 0.9753799  0.92576198 0.92912911\n",
            " 0.89156099 0.8940944  0.91473015 0.88847024 0.84726784 0.85804633\n",
            " 0.86841487 0.87819843 0.83048747 0.81352747 0.80371628 0.78697276\n",
            " 0.83384999 0.85085606 0.85427846 0.84761791 0.85299333 0.84890764\n",
            " 0.82876936 0.77665028 0.78414917 0.84483577 0.8339283  0.81360117\n",
            " 0.77919751 0.80609307 0.84321899 0.85160226 0.87187873 0.86890313\n",
            " 0.90390099 0.88755821 0.9134312  0.91536119 0.9193087  0.93128481\n",
            " 0.92570671 0.89811561 0.90779322 0.93490067 0.91113732 0.87532877\n",
            " 0.86877876 0.84616696 0.80734596 0.79424594 0.81185542 0.78391425\n",
            " 0.79043662 0.81411246 1.0616194  1.17839003 1.36293745 1.58499026\n",
            " 1.82483244 2.06584167 2.29418302 2.50027061 2.67758107 2.82210827\n",
            " 2.9361887  3.03152037 3.1212914  3.20995474 3.29443264 3.37001324\n",
            " 3.4335618  3.48408127 3.52223802 3.54973173]\n",
            "20 day output [[3.5687664]]\n",
            "21 day input [0.97563324 0.96074602 0.96126652 0.9566419  0.94445391 0.94809281\n",
            " 0.94203105 0.87972768 0.87878341 0.87374884 0.88820768 0.90150576\n",
            " 0.91652656 0.89333898 0.8993777  0.8671712  0.86128909 0.84152391\n",
            " 0.81006822 0.81264769 0.77914684 0.80221926 0.80112299 0.83952483\n",
            " 0.86171747 0.88180047 0.9753799  0.92576198 0.92912911 0.89156099\n",
            " 0.8940944  0.91473015 0.88847024 0.84726784 0.85804633 0.86841487\n",
            " 0.87819843 0.83048747 0.81352747 0.80371628 0.78697276 0.83384999\n",
            " 0.85085606 0.85427846 0.84761791 0.85299333 0.84890764 0.82876936\n",
            " 0.77665028 0.78414917 0.84483577 0.8339283  0.81360117 0.77919751\n",
            " 0.80609307 0.84321899 0.85160226 0.87187873 0.86890313 0.90390099\n",
            " 0.88755821 0.9134312  0.91536119 0.9193087  0.93128481 0.92570671\n",
            " 0.89811561 0.90779322 0.93490067 0.91113732 0.87532877 0.86877876\n",
            " 0.84616696 0.80734596 0.79424594 0.81185542 0.78391425 0.79043662\n",
            " 0.81411246 1.0616194  1.17839003 1.36293745 1.58499026 1.82483244\n",
            " 2.06584167 2.29418302 2.50027061 2.67758107 2.82210827 2.9361887\n",
            " 3.03152037 3.1212914  3.20995474 3.29443264 3.37001324 3.4335618\n",
            " 3.48408127 3.52223802 3.54973173 3.56876636]\n",
            "21 day output [[3.5816221]]\n",
            "22 day input [0.96074602 0.96126652 0.9566419  0.94445391 0.94809281 0.94203105\n",
            " 0.87972768 0.87878341 0.87374884 0.88820768 0.90150576 0.91652656\n",
            " 0.89333898 0.8993777  0.8671712  0.86128909 0.84152391 0.81006822\n",
            " 0.81264769 0.77914684 0.80221926 0.80112299 0.83952483 0.86171747\n",
            " 0.88180047 0.9753799  0.92576198 0.92912911 0.89156099 0.8940944\n",
            " 0.91473015 0.88847024 0.84726784 0.85804633 0.86841487 0.87819843\n",
            " 0.83048747 0.81352747 0.80371628 0.78697276 0.83384999 0.85085606\n",
            " 0.85427846 0.84761791 0.85299333 0.84890764 0.82876936 0.77665028\n",
            " 0.78414917 0.84483577 0.8339283  0.81360117 0.77919751 0.80609307\n",
            " 0.84321899 0.85160226 0.87187873 0.86890313 0.90390099 0.88755821\n",
            " 0.9134312  0.91536119 0.9193087  0.93128481 0.92570671 0.89811561\n",
            " 0.90779322 0.93490067 0.91113732 0.87532877 0.86877876 0.84616696\n",
            " 0.80734596 0.79424594 0.81185542 0.78391425 0.79043662 0.81411246\n",
            " 1.0616194  1.17839003 1.36293745 1.58499026 1.82483244 2.06584167\n",
            " 2.29418302 2.50027061 2.67758107 2.82210827 2.9361887  3.03152037\n",
            " 3.1212914  3.20995474 3.29443264 3.37001324 3.4335618  3.48408127\n",
            " 3.52223802 3.54973173 3.56876636 3.58162212]\n",
            "22 day output [[3.5903594]]\n",
            "23 day input [0.96126652 0.9566419  0.94445391 0.94809281 0.94203105 0.87972768\n",
            " 0.87878341 0.87374884 0.88820768 0.90150576 0.91652656 0.89333898\n",
            " 0.8993777  0.8671712  0.86128909 0.84152391 0.81006822 0.81264769\n",
            " 0.77914684 0.80221926 0.80112299 0.83952483 0.86171747 0.88180047\n",
            " 0.9753799  0.92576198 0.92912911 0.89156099 0.8940944  0.91473015\n",
            " 0.88847024 0.84726784 0.85804633 0.86841487 0.87819843 0.83048747\n",
            " 0.81352747 0.80371628 0.78697276 0.83384999 0.85085606 0.85427846\n",
            " 0.84761791 0.85299333 0.84890764 0.82876936 0.77665028 0.78414917\n",
            " 0.84483577 0.8339283  0.81360117 0.77919751 0.80609307 0.84321899\n",
            " 0.85160226 0.87187873 0.86890313 0.90390099 0.88755821 0.9134312\n",
            " 0.91536119 0.9193087  0.93128481 0.92570671 0.89811561 0.90779322\n",
            " 0.93490067 0.91113732 0.87532877 0.86877876 0.84616696 0.80734596\n",
            " 0.79424594 0.81185542 0.78391425 0.79043662 0.81411246 1.0616194\n",
            " 1.17839003 1.36293745 1.58499026 1.82483244 2.06584167 2.29418302\n",
            " 2.50027061 2.67758107 2.82210827 2.9361887  3.03152037 3.1212914\n",
            " 3.20995474 3.29443264 3.37001324 3.4335618  3.48408127 3.52223802\n",
            " 3.54973173 3.56876636 3.58162212 3.59035945]\n",
            "23 day output [[3.5966308]]\n",
            "24 day input [0.9566419  0.94445391 0.94809281 0.94203105 0.87972768 0.87878341\n",
            " 0.87374884 0.88820768 0.90150576 0.91652656 0.89333898 0.8993777\n",
            " 0.8671712  0.86128909 0.84152391 0.81006822 0.81264769 0.77914684\n",
            " 0.80221926 0.80112299 0.83952483 0.86171747 0.88180047 0.9753799\n",
            " 0.92576198 0.92912911 0.89156099 0.8940944  0.91473015 0.88847024\n",
            " 0.84726784 0.85804633 0.86841487 0.87819843 0.83048747 0.81352747\n",
            " 0.80371628 0.78697276 0.83384999 0.85085606 0.85427846 0.84761791\n",
            " 0.85299333 0.84890764 0.82876936 0.77665028 0.78414917 0.84483577\n",
            " 0.8339283  0.81360117 0.77919751 0.80609307 0.84321899 0.85160226\n",
            " 0.87187873 0.86890313 0.90390099 0.88755821 0.9134312  0.91536119\n",
            " 0.9193087  0.93128481 0.92570671 0.89811561 0.90779322 0.93490067\n",
            " 0.91113732 0.87532877 0.86877876 0.84616696 0.80734596 0.79424594\n",
            " 0.81185542 0.78391425 0.79043662 0.81411246 1.0616194  1.17839003\n",
            " 1.36293745 1.58499026 1.82483244 2.06584167 2.29418302 2.50027061\n",
            " 2.67758107 2.82210827 2.9361887  3.03152037 3.1212914  3.20995474\n",
            " 3.29443264 3.37001324 3.4335618  3.48408127 3.52223802 3.54973173\n",
            " 3.56876636 3.58162212 3.59035945 3.59663081]\n",
            "24 day output [[3.6016264]]\n",
            "25 day input [0.94445391 0.94809281 0.94203105 0.87972768 0.87878341 0.87374884\n",
            " 0.88820768 0.90150576 0.91652656 0.89333898 0.8993777  0.8671712\n",
            " 0.86128909 0.84152391 0.81006822 0.81264769 0.77914684 0.80221926\n",
            " 0.80112299 0.83952483 0.86171747 0.88180047 0.9753799  0.92576198\n",
            " 0.92912911 0.89156099 0.8940944  0.91473015 0.88847024 0.84726784\n",
            " 0.85804633 0.86841487 0.87819843 0.83048747 0.81352747 0.80371628\n",
            " 0.78697276 0.83384999 0.85085606 0.85427846 0.84761791 0.85299333\n",
            " 0.84890764 0.82876936 0.77665028 0.78414917 0.84483577 0.8339283\n",
            " 0.81360117 0.77919751 0.80609307 0.84321899 0.85160226 0.87187873\n",
            " 0.86890313 0.90390099 0.88755821 0.9134312  0.91536119 0.9193087\n",
            " 0.93128481 0.92570671 0.89811561 0.90779322 0.93490067 0.91113732\n",
            " 0.87532877 0.86877876 0.84616696 0.80734596 0.79424594 0.81185542\n",
            " 0.78391425 0.79043662 0.81411246 1.0616194  1.17839003 1.36293745\n",
            " 1.58499026 1.82483244 2.06584167 2.29418302 2.50027061 2.67758107\n",
            " 2.82210827 2.9361887  3.03152037 3.1212914  3.20995474 3.29443264\n",
            " 3.37001324 3.4335618  3.48408127 3.52223802 3.54973173 3.56876636\n",
            " 3.58162212 3.59035945 3.59663081 3.6016264 ]\n",
            "25 day output [[3.6060934]]\n",
            "26 day input [0.94809281 0.94203105 0.87972768 0.87878341 0.87374884 0.88820768\n",
            " 0.90150576 0.91652656 0.89333898 0.8993777  0.8671712  0.86128909\n",
            " 0.84152391 0.81006822 0.81264769 0.77914684 0.80221926 0.80112299\n",
            " 0.83952483 0.86171747 0.88180047 0.9753799  0.92576198 0.92912911\n",
            " 0.89156099 0.8940944  0.91473015 0.88847024 0.84726784 0.85804633\n",
            " 0.86841487 0.87819843 0.83048747 0.81352747 0.80371628 0.78697276\n",
            " 0.83384999 0.85085606 0.85427846 0.84761791 0.85299333 0.84890764\n",
            " 0.82876936 0.77665028 0.78414917 0.84483577 0.8339283  0.81360117\n",
            " 0.77919751 0.80609307 0.84321899 0.85160226 0.87187873 0.86890313\n",
            " 0.90390099 0.88755821 0.9134312  0.91536119 0.9193087  0.93128481\n",
            " 0.92570671 0.89811561 0.90779322 0.93490067 0.91113732 0.87532877\n",
            " 0.86877876 0.84616696 0.80734596 0.79424594 0.81185542 0.78391425\n",
            " 0.79043662 0.81411246 1.0616194  1.17839003 1.36293745 1.58499026\n",
            " 1.82483244 2.06584167 2.29418302 2.50027061 2.67758107 2.82210827\n",
            " 2.9361887  3.03152037 3.1212914  3.20995474 3.29443264 3.37001324\n",
            " 3.4335618  3.48408127 3.52223802 3.54973173 3.56876636 3.58162212\n",
            " 3.59035945 3.59663081 3.6016264  3.60609341]\n",
            "26 day output [[3.6104136]]\n",
            "27 day input [0.94203105 0.87972768 0.87878341 0.87374884 0.88820768 0.90150576\n",
            " 0.91652656 0.89333898 0.8993777  0.8671712  0.86128909 0.84152391\n",
            " 0.81006822 0.81264769 0.77914684 0.80221926 0.80112299 0.83952483\n",
            " 0.86171747 0.88180047 0.9753799  0.92576198 0.92912911 0.89156099\n",
            " 0.8940944  0.91473015 0.88847024 0.84726784 0.85804633 0.86841487\n",
            " 0.87819843 0.83048747 0.81352747 0.80371628 0.78697276 0.83384999\n",
            " 0.85085606 0.85427846 0.84761791 0.85299333 0.84890764 0.82876936\n",
            " 0.77665028 0.78414917 0.84483577 0.8339283  0.81360117 0.77919751\n",
            " 0.80609307 0.84321899 0.85160226 0.87187873 0.86890313 0.90390099\n",
            " 0.88755821 0.9134312  0.91536119 0.9193087  0.93128481 0.92570671\n",
            " 0.89811561 0.90779322 0.93490067 0.91113732 0.87532877 0.86877876\n",
            " 0.84616696 0.80734596 0.79424594 0.81185542 0.78391425 0.79043662\n",
            " 0.81411246 1.0616194  1.17839003 1.36293745 1.58499026 1.82483244\n",
            " 2.06584167 2.29418302 2.50027061 2.67758107 2.82210827 2.9361887\n",
            " 3.03152037 3.1212914  3.20995474 3.29443264 3.37001324 3.4335618\n",
            " 3.48408127 3.52223802 3.54973173 3.56876636 3.58162212 3.59035945\n",
            " 3.59663081 3.6016264  3.60609341 3.61041355]\n",
            "27 day output [[3.6147025]]\n",
            "28 day input [0.87972768 0.87878341 0.87374884 0.88820768 0.90150576 0.91652656\n",
            " 0.89333898 0.8993777  0.8671712  0.86128909 0.84152391 0.81006822\n",
            " 0.81264769 0.77914684 0.80221926 0.80112299 0.83952483 0.86171747\n",
            " 0.88180047 0.9753799  0.92576198 0.92912911 0.89156099 0.8940944\n",
            " 0.91473015 0.88847024 0.84726784 0.85804633 0.86841487 0.87819843\n",
            " 0.83048747 0.81352747 0.80371628 0.78697276 0.83384999 0.85085606\n",
            " 0.85427846 0.84761791 0.85299333 0.84890764 0.82876936 0.77665028\n",
            " 0.78414917 0.84483577 0.8339283  0.81360117 0.77919751 0.80609307\n",
            " 0.84321899 0.85160226 0.87187873 0.86890313 0.90390099 0.88755821\n",
            " 0.9134312  0.91536119 0.9193087  0.93128481 0.92570671 0.89811561\n",
            " 0.90779322 0.93490067 0.91113732 0.87532877 0.86877876 0.84616696\n",
            " 0.80734596 0.79424594 0.81185542 0.78391425 0.79043662 0.81411246\n",
            " 1.0616194  1.17839003 1.36293745 1.58499026 1.82483244 2.06584167\n",
            " 2.29418302 2.50027061 2.67758107 2.82210827 2.9361887  3.03152037\n",
            " 3.1212914  3.20995474 3.29443264 3.37001324 3.4335618  3.48408127\n",
            " 3.52223802 3.54973173 3.56876636 3.58162212 3.59035945 3.59663081\n",
            " 3.6016264  3.60609341 3.61041355 3.61470246]\n",
            "28 day output [[3.6189117]]\n",
            "29 day input [0.87878341 0.87374884 0.88820768 0.90150576 0.91652656 0.89333898\n",
            " 0.8993777  0.8671712  0.86128909 0.84152391 0.81006822 0.81264769\n",
            " 0.77914684 0.80221926 0.80112299 0.83952483 0.86171747 0.88180047\n",
            " 0.9753799  0.92576198 0.92912911 0.89156099 0.8940944  0.91473015\n",
            " 0.88847024 0.84726784 0.85804633 0.86841487 0.87819843 0.83048747\n",
            " 0.81352747 0.80371628 0.78697276 0.83384999 0.85085606 0.85427846\n",
            " 0.84761791 0.85299333 0.84890764 0.82876936 0.77665028 0.78414917\n",
            " 0.84483577 0.8339283  0.81360117 0.77919751 0.80609307 0.84321899\n",
            " 0.85160226 0.87187873 0.86890313 0.90390099 0.88755821 0.9134312\n",
            " 0.91536119 0.9193087  0.93128481 0.92570671 0.89811561 0.90779322\n",
            " 0.93490067 0.91113732 0.87532877 0.86877876 0.84616696 0.80734596\n",
            " 0.79424594 0.81185542 0.78391425 0.79043662 0.81411246 1.0616194\n",
            " 1.17839003 1.36293745 1.58499026 1.82483244 2.06584167 2.29418302\n",
            " 2.50027061 2.67758107 2.82210827 2.9361887  3.03152037 3.1212914\n",
            " 3.20995474 3.29443264 3.37001324 3.4335618  3.48408127 3.52223802\n",
            " 3.54973173 3.56876636 3.58162212 3.59035945 3.59663081 3.6016264\n",
            " 3.60609341 3.61041355 3.61470246 3.61891174]\n",
            "29 day output [[3.6229167]]\n",
            "[[1.0616194009780884], [1.1783900260925293], [1.3629374504089355], [1.5849902629852295], [1.8248324394226074], [2.0658416748046875], [2.2941830158233643], [2.5002706050872803], [2.6775810718536377], [2.822108268737793], [2.9361886978149414], [3.031520366668701], [3.121291399002075], [3.2099547386169434], [3.2944326400756836], [3.3700132369995117], [3.4335618019104004], [3.484081268310547], [3.52223801612854], [3.549731731414795], [3.5687663555145264], [3.5816221237182617], [3.5903594493865967], [3.596630811691284], [3.601626396179199], [3.606093406677246], [3.6104135513305664], [3.6147024631500244], [3.6189117431640625], [3.6229166984558105]]\n"
          ]
        }
      ]
    },
    {
      "cell_type": "code",
      "source": [
        "day_new=np.arange(1,101)\n",
        "day_pred=np.arange(101,131)"
      ],
      "metadata": {
        "id": "mbnqPcH8fpZL"
      },
      "execution_count": 33,
      "outputs": []
    },
    {
      "cell_type": "code",
      "source": [
        "import matplotlib.pyplot as plt"
      ],
      "metadata": {
        "id": "VEv-51bHftrz"
      },
      "execution_count": 34,
      "outputs": []
    },
    {
      "cell_type": "code",
      "source": [
        "len(df2)"
      ],
      "metadata": {
        "id": "G204Emgofvpj",
        "colab": {
          "base_uri": "https://localhost:8080/"
        },
        "outputId": "6941435f-b7c9-4e10-cad9-48c6e8183316"
      },
      "execution_count": 35,
      "outputs": [
        {
          "output_type": "execute_result",
          "data": {
            "text/plain": [
              "1258"
            ]
          },
          "metadata": {},
          "execution_count": 35
        }
      ]
    },
    {
      "cell_type": "code",
      "source": [
        "plt.plot(day_new,scaler.inverse_transform(df2[1158:]))\n",
        "plt.plot(day_pred,scaler.inverse_transform(lst_output))"
      ],
      "metadata": {
        "id": "Goo1WRZ-fxwK",
        "colab": {
          "base_uri": "https://localhost:8080/",
          "height": 286
        },
        "outputId": "9348cd17-7d41-476f-d537-4b644ff11cc1"
      },
      "execution_count": 36,
      "outputs": [
        {
          "output_type": "execute_result",
          "data": {
            "text/plain": [
              "[<matplotlib.lines.Line2D at 0x7f5eacfe3910>]"
            ]
          },
          "metadata": {},
          "execution_count": 36
        },
        {
          "output_type": "display_data",
          "data": {
            "text/plain": [
              "<Figure size 432x288 with 1 Axes>"
            ],
            "image/png": "[encoded data removed]"
          },
          "metadata": {
            "needs_background": "light"
          }
        }
      ]
    },
    {
      "cell_type": "code",
      "source": [
        "df3=df2.tolist()\n",
        "df3.extend(lst_output)\n",
        "plt.plot(df3[1200:])"
      ],
      "metadata": {
        "id": "qJFu66tef0K4",
        "colab": {
          "base_uri": "https://localhost:8080/",
          "height": 282
        },
        "outputId": "557744e5-b81a-4959-9b83-df374eafe216"
      },
      "execution_count": 37,
      "outputs": [
        {
          "output_type": "execute_result",
          "data": {
            "text/plain": [
              "[<matplotlib.lines.Line2D at 0x7f5eb1cfd850>]"
            ]
          },
          "metadata": {},
          "execution_count": 37
        },
        {
          "output_type": "display_data",
          "data": {
            "text/plain": [
              "<Figure size 432x288 with 1 Axes>"
            ],
            "image/png": "[encoded data removed]"
          },
          "metadata": {
            "needs_background": "light"
          }
        }
      ]
    },
    {
      "cell_type": "code",
      "source": [
        "df3=scaler.inverse_transform(df3).tolist()"
      ],
      "metadata": {
        "id": "ff5el1t0f3sY"
      },
      "execution_count": 38,
      "outputs": []
    },
    {
      "cell_type": "code",
      "source": [
        "plt.plot(df3)"
      ],
      "metadata": {
        "id": "mZy0nwpjf4ei",
        "colab": {
          "base_uri": "https://localhost:8080/",
          "height": 284
        },
        "outputId": "857a04b9-bb23-4965-9c7d-2d5629f3fe91"
      },
      "execution_count": 39,
      "outputs": [
        {
          "output_type": "execute_result",
          "data": {
            "text/plain": [
              "[<matplotlib.lines.Line2D at 0x7f5eb1d07ed0>]"
            ]
          },
          "metadata": {},
          "execution_count": 39
        },
        {
          "output_type": "display_data",
          "data": {
            "text/plain": [
              "<Figure size 432x288 with 1 Axes>"
            ],
            "image/png": "[encoded data removed]"
          },
          "metadata": {
            "needs_background": "light"
          }
        }
      ]
    }
  ]
}